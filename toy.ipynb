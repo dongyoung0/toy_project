{
 "cells": [
  {
   "cell_type": "markdown",
   "metadata": {
    "heading_collapsed": true
   },
   "source": [
    "# Preprocessing"
   ]
  },
  {
   "cell_type": "markdown",
   "metadata": {
    "heading_collapsed": true,
    "hidden": true
   },
   "source": [
    "## import, 데이터 불러오기"
   ]
  },
  {
   "cell_type": "code",
   "execution_count": 1,
   "metadata": {
    "ExecuteTime": {
     "end_time": "2021-10-08T07:48:52.714410Z",
     "start_time": "2021-10-08T07:48:52.706431Z"
    },
    "hidden": true
   },
   "outputs": [],
   "source": [
    "import numpy as np\n",
    "import pandas as pd\n",
    "import json"
   ]
  },
  {
   "cell_type": "code",
   "execution_count": 2,
   "metadata": {
    "ExecuteTime": {
     "end_time": "2021-10-08T07:48:53.399307Z",
     "start_time": "2021-10-08T07:48:53.370897Z"
    },
    "hidden": true
   },
   "outputs": [],
   "source": [
    "df_trend = pd.read_csv('data/검색량/총검색량.csv')"
   ]
  },
  {
   "cell_type": "code",
   "execution_count": 3,
   "metadata": {
    "ExecuteTime": {
     "end_time": "2021-10-08T07:48:53.823823Z",
     "start_time": "2021-10-08T07:48:53.734719Z"
    },
    "hidden": true,
    "scrolled": true
   },
   "outputs": [],
   "source": [
    "df_subway = pd.read_csv('data/지하철/subway_raw.csv')\n",
    "df_subway = df_subway[['Date', 'place', 'total']]\n",
    "df_subway['place'].replace('종로', '익선', inplace=True) # 장소명 통일을 위해 종로를 익선으로 변경"
   ]
  },
  {
   "cell_type": "markdown",
   "metadata": {},
   "source": [
    "# 데이터 병합\n",
    "네이버 트렌드(검색량) 데이터, 지하철 이용량 데이터, 부동산 데이터를 하나의 데이터프레임으로 병합.  \n",
    "부동산 매매가의 경우 월별 데이터밖에 없으므로 아래 두개의 데이터프레임을 생성할 것임.\n",
    "- 일별 : 검색량 - 지하철 이용량 병합\n",
    "- 월별 : 검색량 - 지하철 이용량 - 부동산 매매가 병합\n"
   ]
  },
  {
   "cell_type": "markdown",
   "metadata": {},
   "source": [
    "## 일별\n",
    "지하철 이용량 데이터가 2021년 8월 31일까지만 있어서 이 기간까지의 데이터만 사용  \n",
    "- 데이터 : 네이버 트렌드 검색량, 지하철 이용량\n",
    "- 기간 : 2016-01-01 ~ 2021-08-31"
   ]
  },
  {
   "cell_type": "markdown",
   "metadata": {},
   "source": [
    "### Reshape\n",
    "트렌드(검색량) 데이터와 지하철 이용량 데이터를 합치기 위해 데이터 프레임 형태를 맞춰줌"
   ]
  },
  {
   "cell_type": "code",
   "execution_count": 4,
   "metadata": {
    "ExecuteTime": {
     "end_time": "2021-10-08T07:48:54.797580Z",
     "start_time": "2021-10-08T07:48:54.769553Z"
    }
   },
   "outputs": [
    {
     "data": {
      "text/html": [
       "<div>\n",
       "<style scoped>\n",
       "    .dataframe tbody tr th:only-of-type {\n",
       "        vertical-align: middle;\n",
       "    }\n",
       "\n",
       "    .dataframe tbody tr th {\n",
       "        vertical-align: top;\n",
       "    }\n",
       "\n",
       "    .dataframe thead th {\n",
       "        text-align: right;\n",
       "    }\n",
       "</style>\n",
       "<table border=\"1\" class=\"dataframe\">\n",
       "  <thead>\n",
       "    <tr style=\"text-align: right;\">\n",
       "      <th></th>\n",
       "      <th>Date</th>\n",
       "      <th>place</th>\n",
       "      <th>trend</th>\n",
       "    </tr>\n",
       "  </thead>\n",
       "  <tbody>\n",
       "    <tr>\n",
       "      <td>0</td>\n",
       "      <td>2016-01-01</td>\n",
       "      <td>홍대</td>\n",
       "      <td>47514.094171</td>\n",
       "    </tr>\n",
       "    <tr>\n",
       "      <td>1</td>\n",
       "      <td>2016-01-01</td>\n",
       "      <td>연남</td>\n",
       "      <td>24403.184823</td>\n",
       "    </tr>\n",
       "    <tr>\n",
       "      <td>2</td>\n",
       "      <td>2016-01-01</td>\n",
       "      <td>이태원</td>\n",
       "      <td>26406.034126</td>\n",
       "    </tr>\n",
       "    <tr>\n",
       "      <td>3</td>\n",
       "      <td>2016-01-01</td>\n",
       "      <td>익선</td>\n",
       "      <td>23092.369742</td>\n",
       "    </tr>\n",
       "    <tr>\n",
       "      <td>4</td>\n",
       "      <td>2016-01-01</td>\n",
       "      <td>을지로</td>\n",
       "      <td>2298.162711</td>\n",
       "    </tr>\n",
       "  </tbody>\n",
       "</table>\n",
       "</div>"
      ],
      "text/plain": [
       "         Date place         trend\n",
       "0  2016-01-01    홍대  47514.094171\n",
       "1  2016-01-01    연남  24403.184823\n",
       "2  2016-01-01   이태원  26406.034126\n",
       "3  2016-01-01    익선  23092.369742\n",
       "4  2016-01-01   을지로   2298.162711"
      ]
     },
     "execution_count": 4,
     "metadata": {},
     "output_type": "execute_result"
    }
   ],
   "source": [
    "# stack을 사용하여 데이터프레임 reshape\n",
    "df_t = df_trend.set_index('period').stack().reset_index()\n",
    "\n",
    "# 컬럼명 통일\n",
    "df_t.rename(columns={'period':'Date','level_1':'place', 0:'trend'}, inplace=True)\n",
    "df_t.head()"
   ]
  },
  {
   "cell_type": "code",
   "execution_count": 5,
   "metadata": {
    "ExecuteTime": {
     "end_time": "2021-10-08T07:48:55.184601Z",
     "start_time": "2021-10-08T07:48:55.083781Z"
    },
    "scrolled": true
   },
   "outputs": [
    {
     "data": {
      "text/html": [
       "<div>\n",
       "<style scoped>\n",
       "    .dataframe tbody tr th:only-of-type {\n",
       "        vertical-align: middle;\n",
       "    }\n",
       "\n",
       "    .dataframe tbody tr th {\n",
       "        vertical-align: top;\n",
       "    }\n",
       "\n",
       "    .dataframe thead th {\n",
       "        text-align: right;\n",
       "    }\n",
       "</style>\n",
       "<table border=\"1\" class=\"dataframe\">\n",
       "  <thead>\n",
       "    <tr style=\"text-align: right;\">\n",
       "      <th></th>\n",
       "      <th>Date</th>\n",
       "      <th>place</th>\n",
       "      <th>subway</th>\n",
       "    </tr>\n",
       "  </thead>\n",
       "  <tbody>\n",
       "    <tr>\n",
       "      <td>0</td>\n",
       "      <td>2016-01-01</td>\n",
       "      <td>강남</td>\n",
       "      <td>77201.0</td>\n",
       "    </tr>\n",
       "    <tr>\n",
       "      <td>1</td>\n",
       "      <td>2016-01-01</td>\n",
       "      <td>반포</td>\n",
       "      <td>25260.0</td>\n",
       "    </tr>\n",
       "    <tr>\n",
       "      <td>2</td>\n",
       "      <td>2016-01-01</td>\n",
       "      <td>삼청</td>\n",
       "      <td>33742.0</td>\n",
       "    </tr>\n",
       "    <tr>\n",
       "      <td>3</td>\n",
       "      <td>2016-01-01</td>\n",
       "      <td>성수</td>\n",
       "      <td>17678.0</td>\n",
       "    </tr>\n",
       "    <tr>\n",
       "      <td>4</td>\n",
       "      <td>2016-01-01</td>\n",
       "      <td>신사</td>\n",
       "      <td>62061.0</td>\n",
       "    </tr>\n",
       "  </tbody>\n",
       "</table>\n",
       "</div>"
      ],
      "text/plain": [
       "         Date place   subway\n",
       "0  2016-01-01    강남  77201.0\n",
       "1  2016-01-01    반포  25260.0\n",
       "2  2016-01-01    삼청  33742.0\n",
       "3  2016-01-01    성수  17678.0\n",
       "4  2016-01-01    신사  62061.0"
      ]
     },
     "execution_count": 5,
     "metadata": {},
     "output_type": "execute_result"
    }
   ],
   "source": [
    "# 데이터 프레임 \n",
    "df_temp = df_subway.groupby(['Date', 'place']).sum()\n",
    "df_temp = pd.pivot_table(df_temp, values = 'total', index = 'Date', columns='place')\n",
    "\n",
    "# stack을 사용하여 reshape\n",
    "df_s = df_temp.stack().reset_index()\n",
    "\n",
    "# 서촌의 경우 역이 늦게 생겨서 지하철 이용량이 비어있는 부분이 있음\n",
    "df_s.fillna(0, inplace=True)\n",
    "\n",
    "# 컬럼명 통일\n",
    "df_s.rename(columns={0:'subway'}, inplace=True)\n",
    "df_s.head()"
   ]
  },
  {
   "cell_type": "markdown",
   "metadata": {},
   "source": [
    "### 데이터 프레임 병합 (일별)"
   ]
  },
  {
   "cell_type": "code",
   "execution_count": 6,
   "metadata": {
    "ExecuteTime": {
     "end_time": "2021-10-08T07:48:55.906655Z",
     "start_time": "2021-10-08T07:48:55.870404Z"
    }
   },
   "outputs": [
    {
     "data": {
      "text/html": [
       "<div>\n",
       "<style scoped>\n",
       "    .dataframe tbody tr th:only-of-type {\n",
       "        vertical-align: middle;\n",
       "    }\n",
       "\n",
       "    .dataframe tbody tr th {\n",
       "        vertical-align: top;\n",
       "    }\n",
       "\n",
       "    .dataframe thead th {\n",
       "        text-align: right;\n",
       "    }\n",
       "</style>\n",
       "<table border=\"1\" class=\"dataframe\">\n",
       "  <thead>\n",
       "    <tr style=\"text-align: right;\">\n",
       "      <th></th>\n",
       "      <th>Date</th>\n",
       "      <th>place</th>\n",
       "      <th>trend</th>\n",
       "      <th>subway</th>\n",
       "    </tr>\n",
       "  </thead>\n",
       "  <tbody>\n",
       "    <tr>\n",
       "      <td>0</td>\n",
       "      <td>2016-01-01</td>\n",
       "      <td>홍대</td>\n",
       "      <td>47514.094171</td>\n",
       "      <td>141684.0</td>\n",
       "    </tr>\n",
       "    <tr>\n",
       "      <td>1</td>\n",
       "      <td>2016-01-01</td>\n",
       "      <td>연남</td>\n",
       "      <td>24403.184823</td>\n",
       "      <td>3906.0</td>\n",
       "    </tr>\n",
       "    <tr>\n",
       "      <td>2</td>\n",
       "      <td>2016-01-01</td>\n",
       "      <td>이태원</td>\n",
       "      <td>26406.034126</td>\n",
       "      <td>48338.0</td>\n",
       "    </tr>\n",
       "    <tr>\n",
       "      <td>3</td>\n",
       "      <td>2016-01-01</td>\n",
       "      <td>익선</td>\n",
       "      <td>23092.369742</td>\n",
       "      <td>85249.0</td>\n",
       "    </tr>\n",
       "    <tr>\n",
       "      <td>4</td>\n",
       "      <td>2016-01-01</td>\n",
       "      <td>을지로</td>\n",
       "      <td>2298.162711</td>\n",
       "      <td>101959.0</td>\n",
       "    </tr>\n",
       "  </tbody>\n",
       "</table>\n",
       "</div>"
      ],
      "text/plain": [
       "         Date place         trend    subway\n",
       "0  2016-01-01    홍대  47514.094171  141684.0\n",
       "1  2016-01-01    연남  24403.184823    3906.0\n",
       "2  2016-01-01   이태원  26406.034126   48338.0\n",
       "3  2016-01-01    익선  23092.369742   85249.0\n",
       "4  2016-01-01   을지로   2298.162711  101959.0"
      ]
     },
     "execution_count": 6,
     "metadata": {},
     "output_type": "execute_result"
    }
   ],
   "source": [
    "df_day = pd.merge(df_t,df_s)\n",
    "df_day.head()"
   ]
  },
  {
   "cell_type": "markdown",
   "metadata": {},
   "source": [
    "### 요일 추가\n",
    "각 일자의 요일 컬럼을 추가"
   ]
  },
  {
   "cell_type": "code",
   "execution_count": 7,
   "metadata": {
    "ExecuteTime": {
     "end_time": "2021-10-08T07:48:56.853606Z",
     "start_time": "2021-10-08T07:48:56.844485Z"
    }
   },
   "outputs": [],
   "source": [
    "def dow(day):\n",
    "    dow = ['일', '월', '화', '수', '목', '금', '토']\n",
    "    return dow[day]\n",
    "\n",
    "def to_dow(df):\n",
    "    df['요일'] = pd.to_datetime(df['Date'])\n",
    "    df['요일'] = df['요일'].dt.dayofweek\n",
    "    df['요일'] = df['요일'].apply(dow)\n",
    "   # df = df.groupby('요일').mean()\n",
    "   # df = df.reindex(['월', '화', '수', '목', '금', '토', '일'])\n",
    "    return df"
   ]
  },
  {
   "cell_type": "code",
   "execution_count": 8,
   "metadata": {
    "ExecuteTime": {
     "end_time": "2021-10-08T07:48:57.231936Z",
     "start_time": "2021-10-08T07:48:57.205077Z"
    }
   },
   "outputs": [],
   "source": [
    "df_day = to_dow(df_day)"
   ]
  },
  {
   "cell_type": "markdown",
   "metadata": {},
   "source": [
    "### 비율 구하기\n",
    "$ 각\\,지역의\\,일자별\\,비율 = {각\\,지역의\\,일자별\\,검색량\\over해당\\,일자의\\,검색량\\,총합} $"
   ]
  },
  {
   "cell_type": "code",
   "execution_count": 9,
   "metadata": {
    "ExecuteTime": {
     "end_time": "2021-10-08T07:48:57.865586Z",
     "start_time": "2021-10-08T07:48:57.819428Z"
    }
   },
   "outputs": [],
   "source": [
    "df_day = df_day.set_index('Date')\n",
    "day_sum = df_day.groupby('Date').sum()\n",
    "df_day['trend_rate'] = df_day['trend'].div(day_sum['trend'])\n",
    "df_day['subway_rate'] = df_day['subway'].div(day_sum['subway'])"
   ]
  },
  {
   "cell_type": "code",
   "execution_count": 10,
   "metadata": {
    "ExecuteTime": {
     "end_time": "2021-10-08T07:48:58.105377Z",
     "start_time": "2021-10-08T07:48:58.093431Z"
    }
   },
   "outputs": [
    {
     "data": {
      "text/html": [
       "<div>\n",
       "<style scoped>\n",
       "    .dataframe tbody tr th:only-of-type {\n",
       "        vertical-align: middle;\n",
       "    }\n",
       "\n",
       "    .dataframe tbody tr th {\n",
       "        vertical-align: top;\n",
       "    }\n",
       "\n",
       "    .dataframe thead th {\n",
       "        text-align: right;\n",
       "    }\n",
       "</style>\n",
       "<table border=\"1\" class=\"dataframe\">\n",
       "  <thead>\n",
       "    <tr style=\"text-align: right;\">\n",
       "      <th></th>\n",
       "      <th>요일</th>\n",
       "      <th>place</th>\n",
       "      <th>trend</th>\n",
       "      <th>trend_rate</th>\n",
       "      <th>subway</th>\n",
       "      <th>subway_rate</th>\n",
       "    </tr>\n",
       "    <tr>\n",
       "      <th>Date</th>\n",
       "      <th></th>\n",
       "      <th></th>\n",
       "      <th></th>\n",
       "      <th></th>\n",
       "      <th></th>\n",
       "      <th></th>\n",
       "    </tr>\n",
       "  </thead>\n",
       "  <tbody>\n",
       "    <tr>\n",
       "      <td>2016-01-01</td>\n",
       "      <td>목</td>\n",
       "      <td>홍대</td>\n",
       "      <td>47514.094171</td>\n",
       "      <td>0.173048</td>\n",
       "      <td>141684.0</td>\n",
       "      <td>0.173670</td>\n",
       "    </tr>\n",
       "    <tr>\n",
       "      <td>2016-01-01</td>\n",
       "      <td>목</td>\n",
       "      <td>연남</td>\n",
       "      <td>24403.184823</td>\n",
       "      <td>0.088877</td>\n",
       "      <td>3906.0</td>\n",
       "      <td>0.004788</td>\n",
       "    </tr>\n",
       "    <tr>\n",
       "      <td>2016-01-01</td>\n",
       "      <td>목</td>\n",
       "      <td>이태원</td>\n",
       "      <td>26406.034126</td>\n",
       "      <td>0.096172</td>\n",
       "      <td>48338.0</td>\n",
       "      <td>0.059250</td>\n",
       "    </tr>\n",
       "    <tr>\n",
       "      <td>2016-01-01</td>\n",
       "      <td>목</td>\n",
       "      <td>익선</td>\n",
       "      <td>23092.369742</td>\n",
       "      <td>0.084103</td>\n",
       "      <td>85249.0</td>\n",
       "      <td>0.104494</td>\n",
       "    </tr>\n",
       "    <tr>\n",
       "      <td>2016-01-01</td>\n",
       "      <td>목</td>\n",
       "      <td>을지로</td>\n",
       "      <td>2298.162711</td>\n",
       "      <td>0.008370</td>\n",
       "      <td>101959.0</td>\n",
       "      <td>0.124977</td>\n",
       "    </tr>\n",
       "  </tbody>\n",
       "</table>\n",
       "</div>"
      ],
      "text/plain": [
       "           요일 place         trend  trend_rate    subway  subway_rate\n",
       "Date                                                                \n",
       "2016-01-01  목    홍대  47514.094171    0.173048  141684.0     0.173670\n",
       "2016-01-01  목    연남  24403.184823    0.088877    3906.0     0.004788\n",
       "2016-01-01  목   이태원  26406.034126    0.096172   48338.0     0.059250\n",
       "2016-01-01  목    익선  23092.369742    0.084103   85249.0     0.104494\n",
       "2016-01-01  목   을지로   2298.162711    0.008370  101959.0     0.124977"
      ]
     },
     "execution_count": 10,
     "metadata": {},
     "output_type": "execute_result"
    }
   ],
   "source": [
    "# 컬럼 순서 정렬\n",
    "df_day = df_day[['요일', 'place', 'trend', 'trend_rate', 'subway', 'subway_rate']]\n",
    "df_day.head()"
   ]
  },
  {
   "cell_type": "markdown",
   "metadata": {},
   "source": [
    "### 저장"
   ]
  },
  {
   "cell_type": "code",
   "execution_count": 11,
   "metadata": {
    "ExecuteTime": {
     "end_time": "2021-10-08T07:48:59.060794Z",
     "start_time": "2021-10-08T07:48:58.806295Z"
    }
   },
   "outputs": [],
   "source": [
    "df_day.to_csv('data/day.csv', encoding='utf-8-sig')"
   ]
  },
  {
   "cell_type": "markdown",
   "metadata": {},
   "source": [
    "## 월별\n",
    "부동산 매매가 데이터가 2016년 10월부터 존재하므로 이 기간동안 데이터 병합  \n",
    "- 데이터 : 네이버 트렌드 검색량, 지하철 이용량, 부동산 매매가  \n",
    "- 기간 : (2016-10 ~ 2021-08)"
   ]
  },
  {
   "cell_type": "markdown",
   "metadata": {},
   "source": [
    "### 데이터프레임 reshape\n",
    "월별로 일수가 다르므로 월별 검색량, 지하철 이용량 평균으로 group.  "
   ]
  },
  {
   "cell_type": "code",
   "execution_count": 12,
   "metadata": {
    "ExecuteTime": {
     "end_time": "2021-10-08T07:48:59.993589Z",
     "start_time": "2021-10-08T07:48:59.916901Z"
    }
   },
   "outputs": [
    {
     "data": {
      "text/html": [
       "<div>\n",
       "<style scoped>\n",
       "    .dataframe tbody tr th:only-of-type {\n",
       "        vertical-align: middle;\n",
       "    }\n",
       "\n",
       "    .dataframe tbody tr th {\n",
       "        vertical-align: top;\n",
       "    }\n",
       "\n",
       "    .dataframe thead th {\n",
       "        text-align: right;\n",
       "    }\n",
       "</style>\n",
       "<table border=\"1\" class=\"dataframe\">\n",
       "  <thead>\n",
       "    <tr style=\"text-align: right;\">\n",
       "      <th></th>\n",
       "      <th>Date</th>\n",
       "      <th>place</th>\n",
       "      <th>trend</th>\n",
       "      <th>trend_rate</th>\n",
       "      <th>subway</th>\n",
       "      <th>subway_rate</th>\n",
       "    </tr>\n",
       "  </thead>\n",
       "  <tbody>\n",
       "    <tr>\n",
       "      <td>0</td>\n",
       "      <td>2016-01</td>\n",
       "      <td>강남</td>\n",
       "      <td>42297.432124</td>\n",
       "      <td>0.159313</td>\n",
       "      <td>211994.096774</td>\n",
       "      <td>0.126797</td>\n",
       "    </tr>\n",
       "    <tr>\n",
       "      <td>1</td>\n",
       "      <td>2016-01</td>\n",
       "      <td>반포</td>\n",
       "      <td>8638.382561</td>\n",
       "      <td>0.032437</td>\n",
       "      <td>65348.516129</td>\n",
       "      <td>0.039410</td>\n",
       "    </tr>\n",
       "    <tr>\n",
       "      <td>2</td>\n",
       "      <td>2016-01</td>\n",
       "      <td>삼청</td>\n",
       "      <td>9205.552865</td>\n",
       "      <td>0.034392</td>\n",
       "      <td>50937.580645</td>\n",
       "      <td>0.031500</td>\n",
       "    </tr>\n",
       "    <tr>\n",
       "      <td>3</td>\n",
       "      <td>2016-01</td>\n",
       "      <td>성수</td>\n",
       "      <td>3208.596440</td>\n",
       "      <td>0.012084</td>\n",
       "      <td>59639.129032</td>\n",
       "      <td>0.034760</td>\n",
       "    </tr>\n",
       "    <tr>\n",
       "      <td>4</td>\n",
       "      <td>2016-01</td>\n",
       "      <td>신사</td>\n",
       "      <td>30090.042061</td>\n",
       "      <td>0.113136</td>\n",
       "      <td>167469.967742</td>\n",
       "      <td>0.101222</td>\n",
       "    </tr>\n",
       "  </tbody>\n",
       "</table>\n",
       "</div>"
      ],
      "text/plain": [
       "      Date place         trend  trend_rate         subway  subway_rate\n",
       "0  2016-01    강남  42297.432124    0.159313  211994.096774     0.126797\n",
       "1  2016-01    반포   8638.382561    0.032437   65348.516129     0.039410\n",
       "2  2016-01    삼청   9205.552865    0.034392   50937.580645     0.031500\n",
       "3  2016-01    성수   3208.596440    0.012084   59639.129032     0.034760\n",
       "4  2016-01    신사  30090.042061    0.113136  167469.967742     0.101222"
      ]
     },
     "execution_count": 12,
     "metadata": {},
     "output_type": "execute_result"
    }
   ],
   "source": [
    "df_temp = pd.read_csv('data/day.csv')\n",
    "\n",
    "# YY-MM-DD 에서 -DD 부분 잘라냄\n",
    "df_temp['Date'] = df_temp['Date'].apply(lambda x:x[:-3])\n",
    "\n",
    "# 년/월 기준으로 group\n",
    "df_temp = df_temp.groupby(['Date', 'place']).mean().reset_index()\n",
    "df_temp.head()"
   ]
  },
  {
   "cell_type": "markdown",
   "metadata": {},
   "source": [
    "부동산 데이터 불러와서, 위 형태에 맞게 reshape"
   ]
  },
  {
   "cell_type": "code",
   "execution_count": 13,
   "metadata": {
    "ExecuteTime": {
     "end_time": "2021-10-08T07:49:00.637386Z",
     "start_time": "2021-10-08T07:49:00.628422Z"
    }
   },
   "outputs": [],
   "source": [
    "df_land = pd.read_csv('data/부동산/매매평균가.csv')"
   ]
  },
  {
   "cell_type": "code",
   "execution_count": 14,
   "metadata": {
    "ExecuteTime": {
     "end_time": "2021-10-08T07:49:00.943667Z",
     "start_time": "2021-10-08T07:49:00.930070Z"
    }
   },
   "outputs": [
    {
     "data": {
      "text/html": [
       "<div>\n",
       "<style scoped>\n",
       "    .dataframe tbody tr th:only-of-type {\n",
       "        vertical-align: middle;\n",
       "    }\n",
       "\n",
       "    .dataframe tbody tr th {\n",
       "        vertical-align: top;\n",
       "    }\n",
       "\n",
       "    .dataframe thead th {\n",
       "        text-align: right;\n",
       "    }\n",
       "</style>\n",
       "<table border=\"1\" class=\"dataframe\">\n",
       "  <thead>\n",
       "    <tr style=\"text-align: right;\">\n",
       "      <th></th>\n",
       "      <th>Date</th>\n",
       "      <th>place</th>\n",
       "      <th>land</th>\n",
       "    </tr>\n",
       "  </thead>\n",
       "  <tbody>\n",
       "    <tr>\n",
       "      <td>0</td>\n",
       "      <td>2016-10</td>\n",
       "      <td>홍대</td>\n",
       "      <td>91727</td>\n",
       "    </tr>\n",
       "    <tr>\n",
       "      <td>1</td>\n",
       "      <td>2016-10</td>\n",
       "      <td>연남</td>\n",
       "      <td>52040</td>\n",
       "    </tr>\n",
       "    <tr>\n",
       "      <td>2</td>\n",
       "      <td>2016-10</td>\n",
       "      <td>이태원</td>\n",
       "      <td>85095</td>\n",
       "    </tr>\n",
       "    <tr>\n",
       "      <td>3</td>\n",
       "      <td>2016-10</td>\n",
       "      <td>익선</td>\n",
       "      <td>25014</td>\n",
       "    </tr>\n",
       "    <tr>\n",
       "      <td>4</td>\n",
       "      <td>2016-10</td>\n",
       "      <td>을지로</td>\n",
       "      <td>21140</td>\n",
       "    </tr>\n",
       "  </tbody>\n",
       "</table>\n",
       "</div>"
      ],
      "text/plain": [
       "      Date place   land\n",
       "0  2016-10    홍대  91727\n",
       "1  2016-10    연남  52040\n",
       "2  2016-10   이태원  85095\n",
       "3  2016-10    익선  25014\n",
       "4  2016-10   을지로  21140"
      ]
     },
     "execution_count": 14,
     "metadata": {},
     "output_type": "execute_result"
    }
   ],
   "source": [
    "# 부동산 데이터프레임 reshape\n",
    "df_land = df_land.set_index('기준년월').stack().reset_index()\n",
    "\n",
    "# 컬럼명 통일\n",
    "df_land.rename(columns={'기준년월':'Date','level_1':'place', 0:'land'}, inplace=True)\n",
    "df_land.head()"
   ]
  },
  {
   "cell_type": "markdown",
   "metadata": {},
   "source": [
    "### 병합"
   ]
  },
  {
   "cell_type": "code",
   "execution_count": 15,
   "metadata": {
    "ExecuteTime": {
     "end_time": "2021-10-08T07:49:01.680865Z",
     "start_time": "2021-10-08T07:49:01.667405Z"
    }
   },
   "outputs": [
    {
     "data": {
      "text/html": [
       "<div>\n",
       "<style scoped>\n",
       "    .dataframe tbody tr th:only-of-type {\n",
       "        vertical-align: middle;\n",
       "    }\n",
       "\n",
       "    .dataframe tbody tr th {\n",
       "        vertical-align: top;\n",
       "    }\n",
       "\n",
       "    .dataframe thead th {\n",
       "        text-align: right;\n",
       "    }\n",
       "</style>\n",
       "<table border=\"1\" class=\"dataframe\">\n",
       "  <thead>\n",
       "    <tr style=\"text-align: right;\">\n",
       "      <th></th>\n",
       "      <th>Date</th>\n",
       "      <th>place</th>\n",
       "      <th>trend</th>\n",
       "      <th>trend_rate</th>\n",
       "      <th>subway</th>\n",
       "      <th>subway_rate</th>\n",
       "      <th>land</th>\n",
       "    </tr>\n",
       "  </thead>\n",
       "  <tbody>\n",
       "    <tr>\n",
       "      <td>0</td>\n",
       "      <td>2016-10</td>\n",
       "      <td>강남</td>\n",
       "      <td>11921.382278</td>\n",
       "      <td>0.131784</td>\n",
       "      <td>188898.741935</td>\n",
       "      <td>0.107790</td>\n",
       "      <td>92676</td>\n",
       "    </tr>\n",
       "    <tr>\n",
       "      <td>1</td>\n",
       "      <td>2016-10</td>\n",
       "      <td>반포</td>\n",
       "      <td>3235.554073</td>\n",
       "      <td>0.035884</td>\n",
       "      <td>91517.290323</td>\n",
       "      <td>0.051513</td>\n",
       "      <td>98194</td>\n",
       "    </tr>\n",
       "    <tr>\n",
       "      <td>2</td>\n",
       "      <td>2016-10</td>\n",
       "      <td>삼청</td>\n",
       "      <td>5635.684855</td>\n",
       "      <td>0.061360</td>\n",
       "      <td>59881.612903</td>\n",
       "      <td>0.034617</td>\n",
       "      <td>92852</td>\n",
       "    </tr>\n",
       "    <tr>\n",
       "      <td>3</td>\n",
       "      <td>2016-10</td>\n",
       "      <td>서촌</td>\n",
       "      <td>2633.491421</td>\n",
       "      <td>0.029219</td>\n",
       "      <td>58978.000000</td>\n",
       "      <td>0.032261</td>\n",
       "      <td>74917</td>\n",
       "    </tr>\n",
       "    <tr>\n",
       "      <td>4</td>\n",
       "      <td>2016-10</td>\n",
       "      <td>성수</td>\n",
       "      <td>2882.069656</td>\n",
       "      <td>0.031422</td>\n",
       "      <td>67410.064516</td>\n",
       "      <td>0.037718</td>\n",
       "      <td>72493</td>\n",
       "    </tr>\n",
       "  </tbody>\n",
       "</table>\n",
       "</div>"
      ],
      "text/plain": [
       "      Date place         trend  trend_rate         subway  subway_rate   land\n",
       "0  2016-10    강남  11921.382278    0.131784  188898.741935     0.107790  92676\n",
       "1  2016-10    반포   3235.554073    0.035884   91517.290323     0.051513  98194\n",
       "2  2016-10    삼청   5635.684855    0.061360   59881.612903     0.034617  92852\n",
       "3  2016-10    서촌   2633.491421    0.029219   58978.000000     0.032261  74917\n",
       "4  2016-10    성수   2882.069656    0.031422   67410.064516     0.037718  72493"
      ]
     },
     "execution_count": 15,
     "metadata": {},
     "output_type": "execute_result"
    }
   ],
   "source": [
    "df_month = pd.merge(df_temp, df_land)\n",
    "df_month.head()"
   ]
  },
  {
   "cell_type": "markdown",
   "metadata": {},
   "source": [
    "### 분기 추가"
   ]
  },
  {
   "cell_type": "code",
   "execution_count": 16,
   "metadata": {
    "ExecuteTime": {
     "end_time": "2021-10-08T07:49:02.608518Z",
     "start_time": "2021-10-08T07:49:02.603531Z"
    }
   },
   "outputs": [],
   "source": [
    "def to_quater(df):\n",
    "    year = df['Date'].apply(lambda x:x[2:-2])\n",
    "    month = df['Date'].apply(lambda x:x[-2:]).astype(int)\n",
    "    quater = (1 + (month-1)//3).astype(str)\n",
    "    df['quater'] = year + quater\n",
    "    return df"
   ]
  },
  {
   "cell_type": "code",
   "execution_count": 17,
   "metadata": {
    "ExecuteTime": {
     "end_time": "2021-10-08T07:49:03.116702Z",
     "start_time": "2021-10-08T07:49:03.044939Z"
    }
   },
   "outputs": [
    {
     "data": {
      "text/html": [
       "<div>\n",
       "<style scoped>\n",
       "    .dataframe tbody tr th:only-of-type {\n",
       "        vertical-align: middle;\n",
       "    }\n",
       "\n",
       "    .dataframe tbody tr th {\n",
       "        vertical-align: top;\n",
       "    }\n",
       "\n",
       "    .dataframe thead th {\n",
       "        text-align: right;\n",
       "    }\n",
       "</style>\n",
       "<table border=\"1\" class=\"dataframe\">\n",
       "  <thead>\n",
       "    <tr style=\"text-align: right;\">\n",
       "      <th></th>\n",
       "      <th>Date</th>\n",
       "      <th>place</th>\n",
       "      <th>trend</th>\n",
       "      <th>trend_rate</th>\n",
       "      <th>subway</th>\n",
       "      <th>subway_rate</th>\n",
       "      <th>land</th>\n",
       "      <th>quater</th>\n",
       "    </tr>\n",
       "  </thead>\n",
       "  <tbody>\n",
       "    <tr>\n",
       "      <td>0</td>\n",
       "      <td>2016-10</td>\n",
       "      <td>강남</td>\n",
       "      <td>11921.382278</td>\n",
       "      <td>0.131784</td>\n",
       "      <td>188898.741935</td>\n",
       "      <td>0.107790</td>\n",
       "      <td>92676</td>\n",
       "      <td>16-4</td>\n",
       "    </tr>\n",
       "    <tr>\n",
       "      <td>1</td>\n",
       "      <td>2016-10</td>\n",
       "      <td>반포</td>\n",
       "      <td>3235.554073</td>\n",
       "      <td>0.035884</td>\n",
       "      <td>91517.290323</td>\n",
       "      <td>0.051513</td>\n",
       "      <td>98194</td>\n",
       "      <td>16-4</td>\n",
       "    </tr>\n",
       "    <tr>\n",
       "      <td>2</td>\n",
       "      <td>2016-10</td>\n",
       "      <td>삼청</td>\n",
       "      <td>5635.684855</td>\n",
       "      <td>0.061360</td>\n",
       "      <td>59881.612903</td>\n",
       "      <td>0.034617</td>\n",
       "      <td>92852</td>\n",
       "      <td>16-4</td>\n",
       "    </tr>\n",
       "    <tr>\n",
       "      <td>3</td>\n",
       "      <td>2016-10</td>\n",
       "      <td>서촌</td>\n",
       "      <td>2633.491421</td>\n",
       "      <td>0.029219</td>\n",
       "      <td>58978.000000</td>\n",
       "      <td>0.032261</td>\n",
       "      <td>74917</td>\n",
       "      <td>16-4</td>\n",
       "    </tr>\n",
       "    <tr>\n",
       "      <td>4</td>\n",
       "      <td>2016-10</td>\n",
       "      <td>성수</td>\n",
       "      <td>2882.069656</td>\n",
       "      <td>0.031422</td>\n",
       "      <td>67410.064516</td>\n",
       "      <td>0.037718</td>\n",
       "      <td>72493</td>\n",
       "      <td>16-4</td>\n",
       "    </tr>\n",
       "  </tbody>\n",
       "</table>\n",
       "</div>"
      ],
      "text/plain": [
       "      Date place         trend  trend_rate         subway  subway_rate   land  \\\n",
       "0  2016-10    강남  11921.382278    0.131784  188898.741935     0.107790  92676   \n",
       "1  2016-10    반포   3235.554073    0.035884   91517.290323     0.051513  98194   \n",
       "2  2016-10    삼청   5635.684855    0.061360   59881.612903     0.034617  92852   \n",
       "3  2016-10    서촌   2633.491421    0.029219   58978.000000     0.032261  74917   \n",
       "4  2016-10    성수   2882.069656    0.031422   67410.064516     0.037718  72493   \n",
       "\n",
       "  quater  \n",
       "0   16-4  \n",
       "1   16-4  \n",
       "2   16-4  \n",
       "3   16-4  \n",
       "4   16-4  "
      ]
     },
     "execution_count": 17,
     "metadata": {},
     "output_type": "execute_result"
    }
   ],
   "source": [
    "df_month = to_quater(df_month)\n",
    "df_month.head()"
   ]
  },
  {
   "cell_type": "markdown",
   "metadata": {},
   "source": [
    "### 계절 추가\n",
    "- 봄 : 3월, 4월, 5월\n",
    "- 여름 : 6월, 7월, 8월\n",
    "- 가을 : 9월, 10월, 11월\n",
    "- 겨울 : 12월, 1월, 2월"
   ]
  },
  {
   "cell_type": "code",
   "execution_count": 18,
   "metadata": {
    "ExecuteTime": {
     "end_time": "2021-10-08T07:49:03.946015Z",
     "start_time": "2021-10-08T07:49:03.941027Z"
    }
   },
   "outputs": [],
   "source": [
    "def season(month):\n",
    "    ss = ['겨울', '봄', '여름', '가을']\n",
    "    if month == 12:\n",
    "        return ss[0]\n",
    "    return ss[month//3]\n",
    "\n",
    "def to_season(df):\n",
    "    month = df['Date'].apply(lambda x:x[-2:]).astype(int)\n",
    "    df['season'] = month.apply(season)\n",
    "    return df\n",
    "    "
   ]
  },
  {
   "cell_type": "code",
   "execution_count": 19,
   "metadata": {
    "ExecuteTime": {
     "end_time": "2021-10-08T07:49:04.294398Z",
     "start_time": "2021-10-08T07:49:04.289214Z"
    }
   },
   "outputs": [],
   "source": [
    "df_month = to_season(df_month)"
   ]
  },
  {
   "cell_type": "markdown",
   "metadata": {},
   "source": [
    "### 비율 구하기"
   ]
  },
  {
   "cell_type": "code",
   "execution_count": 20,
   "metadata": {
    "ExecuteTime": {
     "end_time": "2021-10-08T07:49:05.152476Z",
     "start_time": "2021-10-08T07:49:05.141498Z"
    }
   },
   "outputs": [],
   "source": [
    "df_month = df_month.set_index('Date')\n",
    "month_sum = df_month.groupby('Date').sum()\n",
    "df_month['trend_rate'] = df_month['trend'].div(month_sum['trend'])\n",
    "df_month['subway_rate'] = df_month['subway'].div(month_sum['subway'])\n",
    "df_month['land_rate'] = df_month['land'].div(month_sum['land'])"
   ]
  },
  {
   "cell_type": "code",
   "execution_count": 21,
   "metadata": {
    "ExecuteTime": {
     "end_time": "2021-10-08T07:49:05.567490Z",
     "start_time": "2021-10-08T07:49:05.553179Z"
    }
   },
   "outputs": [
    {
     "data": {
      "text/html": [
       "<div>\n",
       "<style scoped>\n",
       "    .dataframe tbody tr th:only-of-type {\n",
       "        vertical-align: middle;\n",
       "    }\n",
       "\n",
       "    .dataframe tbody tr th {\n",
       "        vertical-align: top;\n",
       "    }\n",
       "\n",
       "    .dataframe thead th {\n",
       "        text-align: right;\n",
       "    }\n",
       "</style>\n",
       "<table border=\"1\" class=\"dataframe\">\n",
       "  <thead>\n",
       "    <tr style=\"text-align: right;\">\n",
       "      <th></th>\n",
       "      <th>quater</th>\n",
       "      <th>season</th>\n",
       "      <th>place</th>\n",
       "      <th>trend</th>\n",
       "      <th>trend_rate</th>\n",
       "      <th>subway</th>\n",
       "      <th>subway_rate</th>\n",
       "      <th>land</th>\n",
       "      <th>land_rate</th>\n",
       "    </tr>\n",
       "    <tr>\n",
       "      <th>Date</th>\n",
       "      <th></th>\n",
       "      <th></th>\n",
       "      <th></th>\n",
       "      <th></th>\n",
       "      <th></th>\n",
       "      <th></th>\n",
       "      <th></th>\n",
       "      <th></th>\n",
       "      <th></th>\n",
       "    </tr>\n",
       "  </thead>\n",
       "  <tbody>\n",
       "    <tr>\n",
       "      <td>2016-10</td>\n",
       "      <td>16-4</td>\n",
       "      <td>가을</td>\n",
       "      <td>강남</td>\n",
       "      <td>11921.382278</td>\n",
       "      <td>0.128435</td>\n",
       "      <td>188898.741935</td>\n",
       "      <td>0.106485</td>\n",
       "      <td>92676</td>\n",
       "      <td>0.079442</td>\n",
       "    </tr>\n",
       "    <tr>\n",
       "      <td>2016-10</td>\n",
       "      <td>16-4</td>\n",
       "      <td>가을</td>\n",
       "      <td>반포</td>\n",
       "      <td>3235.554073</td>\n",
       "      <td>0.034858</td>\n",
       "      <td>91517.290323</td>\n",
       "      <td>0.051590</td>\n",
       "      <td>98194</td>\n",
       "      <td>0.084172</td>\n",
       "    </tr>\n",
       "    <tr>\n",
       "      <td>2016-10</td>\n",
       "      <td>16-4</td>\n",
       "      <td>가을</td>\n",
       "      <td>삼청</td>\n",
       "      <td>5635.684855</td>\n",
       "      <td>0.060716</td>\n",
       "      <td>59881.612903</td>\n",
       "      <td>0.033756</td>\n",
       "      <td>92852</td>\n",
       "      <td>0.079592</td>\n",
       "    </tr>\n",
       "    <tr>\n",
       "      <td>2016-10</td>\n",
       "      <td>16-4</td>\n",
       "      <td>가을</td>\n",
       "      <td>서촌</td>\n",
       "      <td>2633.491421</td>\n",
       "      <td>0.028372</td>\n",
       "      <td>58978.000000</td>\n",
       "      <td>0.033247</td>\n",
       "      <td>74917</td>\n",
       "      <td>0.064219</td>\n",
       "    </tr>\n",
       "    <tr>\n",
       "      <td>2016-10</td>\n",
       "      <td>16-4</td>\n",
       "      <td>가을</td>\n",
       "      <td>성수</td>\n",
       "      <td>2882.069656</td>\n",
       "      <td>0.031050</td>\n",
       "      <td>67410.064516</td>\n",
       "      <td>0.038000</td>\n",
       "      <td>72493</td>\n",
       "      <td>0.062141</td>\n",
       "    </tr>\n",
       "  </tbody>\n",
       "</table>\n",
       "</div>"
      ],
      "text/plain": [
       "        quater season place         trend  trend_rate         subway  \\\n",
       "Date                                                                   \n",
       "2016-10   16-4     가을    강남  11921.382278    0.128435  188898.741935   \n",
       "2016-10   16-4     가을    반포   3235.554073    0.034858   91517.290323   \n",
       "2016-10   16-4     가을    삼청   5635.684855    0.060716   59881.612903   \n",
       "2016-10   16-4     가을    서촌   2633.491421    0.028372   58978.000000   \n",
       "2016-10   16-4     가을    성수   2882.069656    0.031050   67410.064516   \n",
       "\n",
       "         subway_rate   land  land_rate  \n",
       "Date                                    \n",
       "2016-10     0.106485  92676   0.079442  \n",
       "2016-10     0.051590  98194   0.084172  \n",
       "2016-10     0.033756  92852   0.079592  \n",
       "2016-10     0.033247  74917   0.064219  \n",
       "2016-10     0.038000  72493   0.062141  "
      ]
     },
     "execution_count": 21,
     "metadata": {},
     "output_type": "execute_result"
    }
   ],
   "source": [
    "df_month = df_month[['quater', 'season', 'place', 'trend', 'trend_rate',\n",
    "                     'subway', 'subway_rate', 'land', 'land_rate']]\n",
    "df_month.head()"
   ]
  },
  {
   "cell_type": "markdown",
   "metadata": {},
   "source": [
    "### 저장"
   ]
  },
  {
   "cell_type": "code",
   "execution_count": 22,
   "metadata": {
    "ExecuteTime": {
     "end_time": "2021-10-08T07:49:07.031541Z",
     "start_time": "2021-10-08T07:49:07.015903Z"
    }
   },
   "outputs": [],
   "source": [
    "df_month.to_csv('data/month.csv', encoding='utf-8-sig')"
   ]
  },
  {
   "cell_type": "code",
   "execution_count": null,
   "metadata": {},
   "outputs": [],
   "source": []
  }
 ],
 "metadata": {
  "kernelspec": {
   "display_name": "Python 3",
   "language": "python",
   "name": "python3"
  },
  "toc": {
   "base_numbering": 1,
   "nav_menu": {},
   "number_sections": true,
   "sideBar": true,
   "skip_h1_title": false,
   "title_cell": "Table of Contents",
   "title_sidebar": "Contents",
   "toc_cell": false,
   "toc_position": {},
   "toc_section_display": true,
   "toc_window_display": false
  },
  "varInspector": {
   "cols": {
    "lenName": 16,
    "lenType": 16,
    "lenVar": 40
   },
   "kernels_config": {
    "python": {
     "delete_cmd_postfix": "",
     "delete_cmd_prefix": "del ",
     "library": "var_list.py",
     "varRefreshCmd": "print(var_dic_list())"
    },
    "r": {
     "delete_cmd_postfix": ") ",
     "delete_cmd_prefix": "rm(",
     "library": "var_list.r",
     "varRefreshCmd": "cat(var_dic_list()) "
    }
   },
   "types_to_exclude": [
    "module",
    "function",
    "builtin_function_or_method",
    "instance",
    "_Feature"
   ],
   "window_display": false
  }
 },
 "nbformat": 4,
 "nbformat_minor": 2
}
