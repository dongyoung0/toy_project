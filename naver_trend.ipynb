{
 "cells": [
  {
   "cell_type": "markdown",
   "metadata": {},
   "source": [
    "# 네이버 검색량 크롤링"
   ]
  },
  {
   "cell_type": "code",
   "execution_count": 8,
   "metadata": {
    "ExecuteTime": {
     "end_time": "2021-10-01T02:14:19.496820Z",
     "start_time": "2021-10-01T02:14:19.481824Z"
    }
   },
   "outputs": [],
   "source": [
    "import os\n",
    "import sys\n",
    "import numpy as np\n",
    "import pandas as pd\n",
    "import requests # 크롤링에 사용하는 패키지\n",
    "import urllib.request\n",
    "from bs4 import BeautifulSoup # html 변환에 사용함\n",
    "import json"
   ]
  },
  {
   "cell_type": "markdown",
   "metadata": {},
   "source": [
    "# 지역별 최근 한달간 검색량 "
   ]
  },
  {
   "cell_type": "code",
   "execution_count": 9,
   "metadata": {
    "ExecuteTime": {
     "end_time": "2021-10-01T02:14:20.008451Z",
     "start_time": "2021-10-01T02:14:20.002467Z"
    }
   },
   "outputs": [],
   "source": [
    "df = pd.DataFrame()"
   ]
  },
  {
   "cell_type": "code",
   "execution_count": 10,
   "metadata": {
    "ExecuteTime": {
     "end_time": "2021-10-01T02:14:20.430852Z",
     "start_time": "2021-10-01T02:14:20.419878Z"
    }
   },
   "outputs": [
    {
     "data": {
      "text/plain": [
       "'홍대'"
      ]
     },
     "execution_count": 10,
     "metadata": {},
     "output_type": "execute_result"
    }
   ],
   "source": [
    "hots = ['홍대', '연남', '이태원', '종로', '을지로', '성수',\n",
    "        '한남', '청담', '신사', '삼청', '서촌', '장충', '반포', \n",
    "        '혜화', '신촌', '강남']\n",
    "i = 0\n",
    "hots[i]"
   ]
  },
  {
   "cell_type": "code",
   "execution_count": 11,
   "metadata": {
    "ExecuteTime": {
     "end_time": "2021-10-01T02:14:20.635305Z",
     "start_time": "2021-10-01T02:14:20.617388Z"
    }
   },
   "outputs": [
    {
     "data": {
      "text/plain": [
       "'연남'"
      ]
     },
     "execution_count": 11,
     "metadata": {},
     "output_type": "execute_result"
    }
   ],
   "source": [
    "#홍대\n",
    "key = ['홍대맛집', '합정맛집', '망원맛집', '홍대술집', '합정역맛집']\n",
    "pc = [13400, 6810, 1980, 1960, 3590]\n",
    "mob = [146500, 64800, 22100, 21500, 25300]\n",
    "df[hots[i]] = [key, pc, mob]\n",
    "i += 1\n",
    "hots[i]"
   ]
  },
  {
   "cell_type": "code",
   "execution_count": 12,
   "metadata": {
    "ExecuteTime": {
     "end_time": "2021-10-01T02:14:20.797903Z",
     "start_time": "2021-10-01T02:14:20.789892Z"
    }
   },
   "outputs": [
    {
     "data": {
      "text/plain": [
       "'이태원'"
      ]
     },
     "execution_count": 12,
     "metadata": {},
     "output_type": "execute_result"
    }
   ],
   "source": [
    "#연남\n",
    "key = ['연남동맛집', '연남동카페', '연남동술집', '연희동맛집', '연희동카페']\n",
    "pc = [9800, 4260, 1310, 2860, 1230]\n",
    "mob = [113800, 49300, 13300, 29400, 12200]\n",
    "df[hots[i]] = [key, pc, mob]\n",
    "i += 1\n",
    "hots[i]"
   ]
  },
  {
   "cell_type": "code",
   "execution_count": 13,
   "metadata": {
    "ExecuteTime": {
     "end_time": "2021-10-01T02:14:20.968105Z",
     "start_time": "2021-10-01T02:14:20.959112Z"
    }
   },
   "outputs": [
    {
     "data": {
      "text/plain": [
       "'종로'"
      ]
     },
     "execution_count": 13,
     "metadata": {},
     "output_type": "execute_result"
    }
   ],
   "source": [
    "key = ['이태원맛집', '경리단길', '이태원술집', '해방촌맛집', '후암동맛집']\n",
    "pc = [6610, 3330, 850, 2270, 1170]\n",
    "mob = [80500, 24000, 9300, 24600, 8690]\n",
    "df[hots[i]] = [key, pc, mob]\n",
    "i += 1\n",
    "hots[i]"
   ]
  },
  {
   "cell_type": "code",
   "execution_count": 14,
   "metadata": {
    "ExecuteTime": {
     "end_time": "2021-10-01T02:14:21.137072Z",
     "start_time": "2021-10-01T02:14:21.128096Z"
    }
   },
   "outputs": [
    {
     "data": {
      "text/plain": [
       "'을지로'"
      ]
     },
     "execution_count": 14,
     "metadata": {},
     "output_type": "execute_result"
    }
   ],
   "source": [
    "key = ['인사동맛집', '익선동맛집', '종로맛집', '종로3가맛집', '익선동카페']\n",
    "pc = [3180, 5900, 6560, 3370, 2230]\n",
    "mob = [34200, 75700, 64900, 31900, 28200]\n",
    "df[hots[i]] = [key, pc, mob]\n",
    "i += 1\n",
    "hots[i]"
   ]
  },
  {
   "cell_type": "code",
   "execution_count": 15,
   "metadata": {
    "ExecuteTime": {
     "end_time": "2021-10-01T02:14:21.376744Z",
     "start_time": "2021-10-01T02:14:21.367768Z"
    }
   },
   "outputs": [
    {
     "data": {
      "text/plain": [
       "'성수'"
      ]
     },
     "execution_count": 15,
     "metadata": {},
     "output_type": "execute_result"
    }
   ],
   "source": [
    "key = ['을지로맛집', '을지로3가맛집', '을지로입구맛집', '충무로맛집', '을지로카페']\n",
    "pc = [8950, 2380, 1150, 4080, 2070]\n",
    "mob = [67200, 18900, 7020, 19500, 20600]\n",
    "df[hots[i]] = [key, pc, mob]\n",
    "i += 1\n",
    "hots[i]"
   ]
  },
  {
   "cell_type": "code",
   "execution_count": 16,
   "metadata": {
    "ExecuteTime": {
     "end_time": "2021-10-01T02:14:21.499434Z",
     "start_time": "2021-10-01T02:14:21.490440Z"
    }
   },
   "outputs": [
    {
     "data": {
      "text/plain": [
       "'한남'"
      ]
     },
     "execution_count": 16,
     "metadata": {},
     "output_type": "execute_result"
    }
   ],
   "source": [
    "key = ['성수맛집', '성수동맛집', '서울숲맛집', '성수역맛집', '성수카페']\n",
    "pc = [9230, 6920, 5420, 3610, 3870]\n",
    "mob = [96500, 70000, 63500, 24700, 44500]\n",
    "df[hots[i]] = [key, pc, mob]\n",
    "i += 1\n",
    "hots[i]"
   ]
  },
  {
   "cell_type": "code",
   "execution_count": 17,
   "metadata": {
    "ExecuteTime": {
     "end_time": "2021-10-01T02:14:21.687950Z",
     "start_time": "2021-10-01T02:14:21.681928Z"
    }
   },
   "outputs": [
    {
     "data": {
      "text/plain": [
       "'청담'"
      ]
     },
     "execution_count": 17,
     "metadata": {},
     "output_type": "execute_result"
    }
   ],
   "source": [
    "#한남금호옥수\n",
    "key = ['한남동맛집', '한남동카페', '한남맛집', '옥수동맛집', '금호동맛집']\n",
    "pc = [5960, 2620, 890, 420, 800]\n",
    "mob = [62500, 24800, 10000, 4490, 8370]\n",
    "df[hots[i]] = [key, pc, mob]\n",
    "i += 1\n",
    "hots[i]"
   ]
  },
  {
   "cell_type": "code",
   "execution_count": 18,
   "metadata": {
    "ExecuteTime": {
     "end_time": "2021-10-01T02:14:21.875411Z",
     "start_time": "2021-10-01T02:14:21.867472Z"
    }
   },
   "outputs": [
    {
     "data": {
      "text/plain": [
       "'신사'"
      ]
     },
     "execution_count": 18,
     "metadata": {},
     "output_type": "execute_result"
    }
   ],
   "source": [
    "key = ['청담동맛집', '청담맛집', '청담카페', '도산공원맛집', '학동역맛집']\n",
    "pc = [2030, 2890, 850, 2400, 2360]\n",
    "mob = [15200, 30600, 9120, 20000, 10400]\n",
    "df[hots[i]] = [key, pc, mob]\n",
    "i += 1\n",
    "hots[i]"
   ]
  },
  {
   "cell_type": "code",
   "execution_count": 19,
   "metadata": {
    "ExecuteTime": {
     "end_time": "2021-10-01T02:14:22.036017Z",
     "start_time": "2021-10-01T02:14:22.029012Z"
    }
   },
   "outputs": [
    {
     "data": {
      "text/plain": [
       "'삼청'"
      ]
     },
     "execution_count": 19,
     "metadata": {},
     "output_type": "execute_result"
    }
   ],
   "source": [
    "key = ['신사역맛집', '가로수길맛집', '신사맛집', '가로수길카페', '압구정맛집']\n",
    "pc = [3840, 6100, 1880, 2020, 5340]\n",
    "mob = [29000, 68700, 15900, 26900, 57200]\n",
    "df[hots[i]] = [key, pc, mob]\n",
    "i += 1\n",
    "hots[i]"
   ]
  },
  {
   "cell_type": "code",
   "execution_count": 20,
   "metadata": {
    "ExecuteTime": {
     "end_time": "2021-10-01T02:14:22.198548Z",
     "start_time": "2021-10-01T02:14:22.190569Z"
    }
   },
   "outputs": [
    {
     "data": {
      "text/plain": [
       "'서촌'"
      ]
     },
     "execution_count": 20,
     "metadata": {},
     "output_type": "execute_result"
    }
   ],
   "source": [
    "key = ['삼청동맛집', '경복궁맛집', '안국역맛집', '북촌맛집', '북촌카페']\n",
    "pc = [2950, 3200, 3490, 1750, 720]\n",
    "mob = [34800, 37100, 32100, 17100, 7390]\n",
    "df[hots[i]] = [key, pc, mob]\n",
    "i += 1\n",
    "hots[i]"
   ]
  },
  {
   "cell_type": "code",
   "execution_count": 21,
   "metadata": {
    "ExecuteTime": {
     "end_time": "2021-10-01T02:14:22.366165Z",
     "start_time": "2021-10-01T02:14:22.355227Z"
    }
   },
   "outputs": [
    {
     "data": {
      "text/plain": [
       "'장충'"
      ]
     },
     "execution_count": 21,
     "metadata": {},
     "output_type": "execute_result"
    }
   ],
   "source": [
    "key = ['서촌맛집', '서촌카페', '부암동맛집', '부암동카페', '경복궁역맛집']\n",
    "pc = [5800, 2430, 1390, 660, 2170]\n",
    "mob = [59700, 23000, 17000, 9170, 19600]\n",
    "df[hots[i]] = [key, pc, mob]\n",
    "i += 1\n",
    "hots[i]"
   ]
  },
  {
   "cell_type": "code",
   "execution_count": 22,
   "metadata": {
    "ExecuteTime": {
     "end_time": "2021-10-01T02:14:22.535749Z",
     "start_time": "2021-10-01T02:14:22.528728Z"
    }
   },
   "outputs": [
    {
     "data": {
      "text/plain": [
       "'반포'"
      ]
     },
     "execution_count": 22,
     "metadata": {},
     "output_type": "execute_result"
    }
   ],
   "source": [
    "# 장충 약수 신당\n",
    "key = ['장충동맛집', '약수역맛집', '신당동맛집', '신당역맛집', '청구역맛집']\n",
    "pc = [440, 1620, 1050, 1310, 370]\n",
    "mob = [4020, 10900, 9420, 10500, 2320]\n",
    "df[hots[i]] = [key, pc, mob]\n",
    "i += 1\n",
    "hots[i]"
   ]
  },
  {
   "cell_type": "code",
   "execution_count": 23,
   "metadata": {
    "ExecuteTime": {
     "end_time": "2021-10-01T02:14:22.862631Z",
     "start_time": "2021-10-01T02:14:22.853726Z"
    }
   },
   "outputs": [
    {
     "data": {
      "text/plain": [
       "'혜화'"
      ]
     },
     "execution_count": 23,
     "metadata": {},
     "output_type": "execute_result"
    }
   ],
   "source": [
    "#반포 서래마을\n",
    "key = ['서래마을맛집', '이수역맛집', '방배동맛집', '이수맛집', '반포맛집']\n",
    "pc = [2450, 3840, 1060, 1120, 900]\n",
    "mob = [24400, 24700, 7620, 8110, 9810]\n",
    "df[hots[i]] = [key, pc, mob]\n",
    "i += 1\n",
    "hots[i]"
   ]
  },
  {
   "cell_type": "code",
   "execution_count": 24,
   "metadata": {
    "ExecuteTime": {
     "end_time": "2021-10-01T02:14:23.040185Z",
     "start_time": "2021-10-01T02:14:23.031183Z"
    }
   },
   "outputs": [
    {
     "data": {
      "text/plain": [
       "'신촌'"
      ]
     },
     "execution_count": 24,
     "metadata": {},
     "output_type": "execute_result"
    }
   ],
   "source": [
    "key = ['혜화맛집', '대학로맛집', '혜화역맛집', '대학로카페', '혜화카페']\n",
    "pc = [4420, 3940, 2350, 630, 1140]\n",
    "mob = [52100, 39200, 24700, 6680, 15700]\n",
    "df[hots[i]] = [key, pc, mob]\n",
    "i += 1\n",
    "hots[i]"
   ]
  },
  {
   "cell_type": "code",
   "execution_count": 25,
   "metadata": {
    "ExecuteTime": {
     "end_time": "2021-10-01T02:14:23.207708Z",
     "start_time": "2021-10-01T02:14:23.199728Z"
    }
   },
   "outputs": [
    {
     "data": {
      "text/plain": [
       "'강남'"
      ]
     },
     "execution_count": 25,
     "metadata": {},
     "output_type": "execute_result"
    }
   ],
   "source": [
    "key = ['신촌맛집', '신촌역맛집', '이대맛집', '신촌술집', '신촌카페']\n",
    "pc = [6490, 1030, 1380, 730, 990]\n",
    "mob = [73700, 9850, 13100, 7010, 13600]\n",
    "df[hots[i]] = [key, pc, mob]\n",
    "i += 1\n",
    "hots[i]"
   ]
  },
  {
   "cell_type": "code",
   "execution_count": 26,
   "metadata": {
    "ExecuteTime": {
     "end_time": "2021-10-01T02:14:23.360307Z",
     "start_time": "2021-10-01T02:14:23.354351Z"
    }
   },
   "outputs": [],
   "source": [
    "key = ['강남맛집', '강남역맛집', '강남역술집', '강남술집', '강남카페']\n",
    "pc = [11900, 17400, 1940, 1460, 1880]\n",
    "mob = [94500, 129900, 16200, 11900, 19800]\n",
    "df[hots[i]] = [key, pc, mob]\n",
    "#i += 1\n",
    "#hots[i]"
   ]
  },
  {
   "cell_type": "code",
   "execution_count": 27,
   "metadata": {
    "ExecuteTime": {
     "end_time": "2021-10-01T02:14:23.588723Z",
     "start_time": "2021-10-01T02:14:23.517880Z"
    }
   },
   "outputs": [],
   "source": [
    "df.loc[3] = 0\n",
    "df.loc[4] = 0\n",
    "for i in range(len(df.loc[1])):\n",
    "    df.loc[3][i] = sum(df.loc[1][i])\n",
    "    df.loc[4][i] = sum(df.loc[2][i])\n",
    "df.loc[5] = df.loc[3] + df.loc[4]\n",
    "df.index = ['keyword', 'pc', 'mobile', 'sum_pc', 'sum_mobil', 'sum_total']"
   ]
  },
  {
   "cell_type": "code",
   "execution_count": 30,
   "metadata": {
    "ExecuteTime": {
     "end_time": "2021-10-01T02:16:05.674210Z",
     "start_time": "2021-10-01T02:16:05.667712Z"
    }
   },
   "outputs": [],
   "source": [
    "df.to_csv('data/hot_place_list.csv', encoding = 'utf-8-sig', index=False)"
   ]
  },
  {
   "cell_type": "code",
   "execution_count": 31,
   "metadata": {
    "ExecuteTime": {
     "end_time": "2021-10-01T02:16:06.670885Z",
     "start_time": "2021-10-01T02:16:06.634982Z"
    }
   },
   "outputs": [
    {
     "data": {
      "text/html": [
       "<div>\n",
       "<style scoped>\n",
       "    .dataframe tbody tr th:only-of-type {\n",
       "        vertical-align: middle;\n",
       "    }\n",
       "\n",
       "    .dataframe tbody tr th {\n",
       "        vertical-align: top;\n",
       "    }\n",
       "\n",
       "    .dataframe thead th {\n",
       "        text-align: right;\n",
       "    }\n",
       "</style>\n",
       "<table border=\"1\" class=\"dataframe\">\n",
       "  <thead>\n",
       "    <tr style=\"text-align: right;\">\n",
       "      <th></th>\n",
       "      <th>홍대</th>\n",
       "      <th>연남</th>\n",
       "      <th>이태원</th>\n",
       "      <th>종로</th>\n",
       "      <th>을지로</th>\n",
       "      <th>성수</th>\n",
       "      <th>한남</th>\n",
       "      <th>청담</th>\n",
       "      <th>신사</th>\n",
       "      <th>삼청</th>\n",
       "      <th>서촌</th>\n",
       "      <th>장충</th>\n",
       "      <th>반포</th>\n",
       "      <th>혜화</th>\n",
       "      <th>신촌</th>\n",
       "      <th>강남</th>\n",
       "    </tr>\n",
       "  </thead>\n",
       "  <tbody>\n",
       "    <tr>\n",
       "      <td>keyword</td>\n",
       "      <td>[홍대맛집, 합정맛집, 망원맛집, 홍대술집, 합정역맛집]</td>\n",
       "      <td>[연남동맛집, 연남동카페, 연남동술집, 연희동맛집, 연희동카페]</td>\n",
       "      <td>[이태원맛집, 경리단길, 이태원술집, 해방촌맛집, 후암동맛집]</td>\n",
       "      <td>[인사동맛집, 익선동맛집, 종로맛집, 종로3가맛집, 익선동카페]</td>\n",
       "      <td>[을지로맛집, 을지로3가맛집, 을지로입구맛집, 충무로맛집, 을지로카페]</td>\n",
       "      <td>[성수맛집, 성수동맛집, 서울숲맛집, 성수역맛집, 성수카페]</td>\n",
       "      <td>[한남동맛집, 한남동카페, 한남맛집, 옥수동맛집, 금호동맛집]</td>\n",
       "      <td>[청담동맛집, 청담맛집, 청담카페, 도산공원맛집, 학동역맛집]</td>\n",
       "      <td>[신사역맛집, 가로수길맛집, 신사맛집, 가로수길카페, 압구정맛집]</td>\n",
       "      <td>[삼청동맛집, 경복궁맛집, 안국역맛집, 북촌맛집, 북촌카페]</td>\n",
       "      <td>[서촌맛집, 서촌카페, 부암동맛집, 부암동카페, 경복궁역맛집]</td>\n",
       "      <td>[장충동맛집, 약수역맛집, 신당동맛집, 신당역맛집, 청구역맛집]</td>\n",
       "      <td>[서래마을맛집, 이수역맛집, 방배동맛집, 이수맛집, 반포맛집]</td>\n",
       "      <td>[혜화맛집, 대학로맛집, 혜화역맛집, 대학로카페, 혜화카페]</td>\n",
       "      <td>[신촌맛집, 신촌역맛집, 이대맛집, 신촌술집, 신촌카페]</td>\n",
       "      <td>[강남맛집, 강남역맛집, 강남역술집, 강남술집, 강남카페]</td>\n",
       "    </tr>\n",
       "    <tr>\n",
       "      <td>pc</td>\n",
       "      <td>[13400, 6810, 1980, 1960, 3590]</td>\n",
       "      <td>[9800, 4260, 1310, 2860, 1230]</td>\n",
       "      <td>[6610, 3330, 850, 2270, 1170]</td>\n",
       "      <td>[3180, 5900, 6560, 3370, 2230]</td>\n",
       "      <td>[8950, 2380, 1150, 4080, 2070]</td>\n",
       "      <td>[9230, 6920, 5420, 3610, 3870]</td>\n",
       "      <td>[5960, 2620, 890, 420, 800]</td>\n",
       "      <td>[2030, 2890, 850, 2400, 2360]</td>\n",
       "      <td>[3840, 6100, 1880, 2020, 5340]</td>\n",
       "      <td>[2950, 3200, 3490, 1750, 720]</td>\n",
       "      <td>[5800, 2430, 1390, 660, 2170]</td>\n",
       "      <td>[440, 1620, 1050, 1310, 370]</td>\n",
       "      <td>[2450, 3840, 1060, 1120, 900]</td>\n",
       "      <td>[4420, 3940, 2350, 630, 1140]</td>\n",
       "      <td>[6490, 1030, 1380, 730, 990]</td>\n",
       "      <td>[11900, 17400, 1940, 1460, 1880]</td>\n",
       "    </tr>\n",
       "    <tr>\n",
       "      <td>mobile</td>\n",
       "      <td>[146500, 64800, 22100, 21500, 25300]</td>\n",
       "      <td>[113800, 49300, 13300, 29400, 12200]</td>\n",
       "      <td>[80500, 24000, 9300, 24600, 8690]</td>\n",
       "      <td>[34200, 75700, 64900, 31900, 28200]</td>\n",
       "      <td>[67200, 18900, 7020, 19500, 20600]</td>\n",
       "      <td>[96500, 70000, 63500, 24700, 44500]</td>\n",
       "      <td>[62500, 24800, 10000, 4490, 8370]</td>\n",
       "      <td>[15200, 30600, 9120, 20000, 10400]</td>\n",
       "      <td>[29000, 68700, 15900, 26900, 57200]</td>\n",
       "      <td>[34800, 37100, 32100, 17100, 7390]</td>\n",
       "      <td>[59700, 23000, 17000, 9170, 19600]</td>\n",
       "      <td>[4020, 10900, 9420, 10500, 2320]</td>\n",
       "      <td>[24400, 24700, 7620, 8110, 9810]</td>\n",
       "      <td>[52100, 39200, 24700, 6680, 15700]</td>\n",
       "      <td>[73700, 9850, 13100, 7010, 13600]</td>\n",
       "      <td>[94500, 129900, 16200, 11900, 19800]</td>\n",
       "    </tr>\n",
       "    <tr>\n",
       "      <td>sum_pc</td>\n",
       "      <td>27740</td>\n",
       "      <td>19460</td>\n",
       "      <td>14230</td>\n",
       "      <td>21240</td>\n",
       "      <td>18630</td>\n",
       "      <td>29050</td>\n",
       "      <td>10690</td>\n",
       "      <td>10530</td>\n",
       "      <td>19180</td>\n",
       "      <td>12110</td>\n",
       "      <td>12450</td>\n",
       "      <td>4790</td>\n",
       "      <td>9370</td>\n",
       "      <td>12480</td>\n",
       "      <td>10620</td>\n",
       "      <td>34580</td>\n",
       "    </tr>\n",
       "    <tr>\n",
       "      <td>sum_mobil</td>\n",
       "      <td>280200</td>\n",
       "      <td>218000</td>\n",
       "      <td>147090</td>\n",
       "      <td>234900</td>\n",
       "      <td>133220</td>\n",
       "      <td>299200</td>\n",
       "      <td>110160</td>\n",
       "      <td>85320</td>\n",
       "      <td>197700</td>\n",
       "      <td>128490</td>\n",
       "      <td>128470</td>\n",
       "      <td>37160</td>\n",
       "      <td>74640</td>\n",
       "      <td>138380</td>\n",
       "      <td>117260</td>\n",
       "      <td>272300</td>\n",
       "    </tr>\n",
       "    <tr>\n",
       "      <td>sum_total</td>\n",
       "      <td>307940</td>\n",
       "      <td>237460</td>\n",
       "      <td>161320</td>\n",
       "      <td>256140</td>\n",
       "      <td>151850</td>\n",
       "      <td>328250</td>\n",
       "      <td>120850</td>\n",
       "      <td>95850</td>\n",
       "      <td>216880</td>\n",
       "      <td>140600</td>\n",
       "      <td>140920</td>\n",
       "      <td>41950</td>\n",
       "      <td>84010</td>\n",
       "      <td>150860</td>\n",
       "      <td>127880</td>\n",
       "      <td>306880</td>\n",
       "    </tr>\n",
       "  </tbody>\n",
       "</table>\n",
       "</div>"
      ],
      "text/plain": [
       "                                             홍대  \\\n",
       "keyword         [홍대맛집, 합정맛집, 망원맛집, 홍대술집, 합정역맛집]   \n",
       "pc              [13400, 6810, 1980, 1960, 3590]   \n",
       "mobile     [146500, 64800, 22100, 21500, 25300]   \n",
       "sum_pc                                    27740   \n",
       "sum_mobil                                280200   \n",
       "sum_total                                307940   \n",
       "\n",
       "                                             연남  \\\n",
       "keyword     [연남동맛집, 연남동카페, 연남동술집, 연희동맛집, 연희동카페]   \n",
       "pc               [9800, 4260, 1310, 2860, 1230]   \n",
       "mobile     [113800, 49300, 13300, 29400, 12200]   \n",
       "sum_pc                                    19460   \n",
       "sum_mobil                                218000   \n",
       "sum_total                                237460   \n",
       "\n",
       "                                          이태원  \\\n",
       "keyword    [이태원맛집, 경리단길, 이태원술집, 해방촌맛집, 후암동맛집]   \n",
       "pc              [6610, 3330, 850, 2270, 1170]   \n",
       "mobile      [80500, 24000, 9300, 24600, 8690]   \n",
       "sum_pc                                  14230   \n",
       "sum_mobil                              147090   \n",
       "sum_total                              161320   \n",
       "\n",
       "                                            종로  \\\n",
       "keyword    [인사동맛집, 익선동맛집, 종로맛집, 종로3가맛집, 익선동카페]   \n",
       "pc              [3180, 5900, 6560, 3370, 2230]   \n",
       "mobile     [34200, 75700, 64900, 31900, 28200]   \n",
       "sum_pc                                   21240   \n",
       "sum_mobil                               234900   \n",
       "sum_total                               256140   \n",
       "\n",
       "                                               을지로  \\\n",
       "keyword    [을지로맛집, 을지로3가맛집, 을지로입구맛집, 충무로맛집, 을지로카페]   \n",
       "pc                  [8950, 2380, 1150, 4080, 2070]   \n",
       "mobile          [67200, 18900, 7020, 19500, 20600]   \n",
       "sum_pc                                       18630   \n",
       "sum_mobil                                   133220   \n",
       "sum_total                                   151850   \n",
       "\n",
       "                                            성수  \\\n",
       "keyword      [성수맛집, 성수동맛집, 서울숲맛집, 성수역맛집, 성수카페]   \n",
       "pc              [9230, 6920, 5420, 3610, 3870]   \n",
       "mobile     [96500, 70000, 63500, 24700, 44500]   \n",
       "sum_pc                                   29050   \n",
       "sum_mobil                               299200   \n",
       "sum_total                               328250   \n",
       "\n",
       "                                           한남  \\\n",
       "keyword    [한남동맛집, 한남동카페, 한남맛집, 옥수동맛집, 금호동맛집]   \n",
       "pc                [5960, 2620, 890, 420, 800]   \n",
       "mobile      [62500, 24800, 10000, 4490, 8370]   \n",
       "sum_pc                                  10690   \n",
       "sum_mobil                              110160   \n",
       "sum_total                              120850   \n",
       "\n",
       "                                           청담  \\\n",
       "keyword    [청담동맛집, 청담맛집, 청담카페, 도산공원맛집, 학동역맛집]   \n",
       "pc              [2030, 2890, 850, 2400, 2360]   \n",
       "mobile     [15200, 30600, 9120, 20000, 10400]   \n",
       "sum_pc                                  10530   \n",
       "sum_mobil                               85320   \n",
       "sum_total                               95850   \n",
       "\n",
       "                                             신사  \\\n",
       "keyword    [신사역맛집, 가로수길맛집, 신사맛집, 가로수길카페, 압구정맛집]   \n",
       "pc               [3840, 6100, 1880, 2020, 5340]   \n",
       "mobile      [29000, 68700, 15900, 26900, 57200]   \n",
       "sum_pc                                    19180   \n",
       "sum_mobil                                197700   \n",
       "sum_total                                216880   \n",
       "\n",
       "                                           삼청  \\\n",
       "keyword     [삼청동맛집, 경복궁맛집, 안국역맛집, 북촌맛집, 북촌카페]   \n",
       "pc              [2950, 3200, 3490, 1750, 720]   \n",
       "mobile     [34800, 37100, 32100, 17100, 7390]   \n",
       "sum_pc                                  12110   \n",
       "sum_mobil                              128490   \n",
       "sum_total                              140600   \n",
       "\n",
       "                                           서촌  \\\n",
       "keyword    [서촌맛집, 서촌카페, 부암동맛집, 부암동카페, 경복궁역맛집]   \n",
       "pc              [5800, 2430, 1390, 660, 2170]   \n",
       "mobile     [59700, 23000, 17000, 9170, 19600]   \n",
       "sum_pc                                  12450   \n",
       "sum_mobil                              128470   \n",
       "sum_total                              140920   \n",
       "\n",
       "                                            장충  \\\n",
       "keyword    [장충동맛집, 약수역맛집, 신당동맛집, 신당역맛집, 청구역맛집]   \n",
       "pc                [440, 1620, 1050, 1310, 370]   \n",
       "mobile        [4020, 10900, 9420, 10500, 2320]   \n",
       "sum_pc                                    4790   \n",
       "sum_mobil                                37160   \n",
       "sum_total                                41950   \n",
       "\n",
       "                                           반포  \\\n",
       "keyword    [서래마을맛집, 이수역맛집, 방배동맛집, 이수맛집, 반포맛집]   \n",
       "pc              [2450, 3840, 1060, 1120, 900]   \n",
       "mobile       [24400, 24700, 7620, 8110, 9810]   \n",
       "sum_pc                                   9370   \n",
       "sum_mobil                               74640   \n",
       "sum_total                               84010   \n",
       "\n",
       "                                           혜화  \\\n",
       "keyword     [혜화맛집, 대학로맛집, 혜화역맛집, 대학로카페, 혜화카페]   \n",
       "pc              [4420, 3940, 2350, 630, 1140]   \n",
       "mobile     [52100, 39200, 24700, 6680, 15700]   \n",
       "sum_pc                                  12480   \n",
       "sum_mobil                              138380   \n",
       "sum_total                              150860   \n",
       "\n",
       "                                          신촌  \\\n",
       "keyword      [신촌맛집, 신촌역맛집, 이대맛집, 신촌술집, 신촌카페]   \n",
       "pc              [6490, 1030, 1380, 730, 990]   \n",
       "mobile     [73700, 9850, 13100, 7010, 13600]   \n",
       "sum_pc                                 10620   \n",
       "sum_mobil                             117260   \n",
       "sum_total                             127880   \n",
       "\n",
       "                                             강남  \n",
       "keyword        [강남맛집, 강남역맛집, 강남역술집, 강남술집, 강남카페]  \n",
       "pc             [11900, 17400, 1940, 1460, 1880]  \n",
       "mobile     [94500, 129900, 16200, 11900, 19800]  \n",
       "sum_pc                                    34580  \n",
       "sum_mobil                                272300  \n",
       "sum_total                                306880  "
      ]
     },
     "execution_count": 31,
     "metadata": {},
     "output_type": "execute_result"
    }
   ],
   "source": [
    "df"
   ]
  },
  {
   "cell_type": "code",
   "execution_count": null,
   "metadata": {
    "ExecuteTime": {
     "end_time": "2021-09-30T05:58:59.436116Z",
     "start_time": "2021-09-30T05:58:59.431168Z"
    }
   },
   "outputs": [],
   "source": []
  },
  {
   "cell_type": "markdown",
   "metadata": {
    "ExecuteTime": {
     "end_time": "2021-09-30T05:58:59.879931Z",
     "start_time": "2021-09-30T05:58:59.875939Z"
    }
   },
   "source": [
    "# 장소별 검색량 크롤링"
   ]
  },
  {
   "cell_type": "code",
   "execution_count": 38,
   "metadata": {
    "ExecuteTime": {
     "end_time": "2021-09-30T14:36:38.177260Z",
     "start_time": "2021-09-30T14:36:38.167726Z"
    }
   },
   "outputs": [],
   "source": [
    "# id, secret key\n",
    "client_id = 'ID'\n",
    "client_secret = 'secret'\n",
    "# url 설정\n",
    "url = 'https://openapi.naver.com/v1/datalab/search'\n",
    "#헤더정보 정의\n",
    "info = {\n",
    "    'Content-Type': 'application/x-www-form-urlencoded; charset=UTF-8',\n",
    "    'X-Naver-Client-Id': 'cw4xqTZqtv32efJHzwoI',\n",
    "    'X-Naver-Client-Secret': '0KJ5yJQ8NL'\n",
    "}\n",
    "\n",
    "#저장할 dataframe 정의\n",
    "i=0\n",
    "df_total = pd.DataFrame()"
   ]
  },
  {
   "cell_type": "code",
   "execution_count": 29,
   "metadata": {
    "ExecuteTime": {
     "end_time": "2021-09-30T14:33:40.065223Z",
     "start_time": "2021-09-30T14:33:40.054114Z"
    }
   },
   "outputs": [],
   "source": [
    "def DatalabTrend(body):\n",
    "    request = urllib.request.Request(url)\n",
    "    request.add_header(\"X-Naver-Client-Id\",client_id)\n",
    "    request.add_header(\"X-Naver-Client-Secret\",client_secret)\n",
    "    request.add_header(\"Content-Type\",\"application/json\")\n",
    "    response = urllib.request.urlopen(request, data=body.encode(\"utf-8\"))\n",
    "    rescode = response.getcode()\n",
    "    if(rescode==200):\n",
    "        response_body = response.read()\n",
    "    #     print(response_body.decode('utf-8'))\n",
    "    else:\n",
    "        print(\"Error Code:\" + rescode)\n",
    "    #result = json.loads(scraped)\n",
    "    return json.loads(response_body)"
   ]
  },
  {
   "cell_type": "markdown",
   "metadata": {},
   "source": [
    "##  홍대"
   ]
  },
  {
   "cell_type": "code",
   "execution_count": 39,
   "metadata": {
    "ExecuteTime": {
     "end_time": "2021-09-30T14:36:40.930718Z",
     "start_time": "2021-09-30T14:36:40.916261Z"
    }
   },
   "outputs": [
    {
     "data": {
      "text/plain": [
       "keyword           [홍대맛집, 합정맛집, 망원맛집, 홍대술집, 합정역맛집]\n",
       "pc                [13400, 6810, 1980, 1960, 3590]\n",
       "mobile       [146500, 64800, 22100, 21500, 25300]\n",
       "sum_pc                                      27740\n",
       "sum_mobil                                  280200\n",
       "sum_total                                  307940\n",
       "Name: 홍대, dtype: object"
      ]
     },
     "execution_count": 39,
     "metadata": {},
     "output_type": "execute_result"
    }
   ],
   "source": [
    "df[hots[i]]"
   ]
  },
  {
   "cell_type": "code",
   "execution_count": 40,
   "metadata": {
    "ExecuteTime": {
     "end_time": "2021-09-30T14:36:42.108031Z",
     "start_time": "2021-09-30T14:36:41.654984Z"
    }
   },
   "outputs": [],
   "source": [
    "#홍대\n",
    "body = \"{\\\"startDate\\\":\\\"2016-01-01\\\",\\\"endDate\\\":\\\"2021-09-29\\\",\\\"timeUnit\\\":\\\"date\\\",\\\"keywordGroups\\\":[{\\\"groupName\\\":\\\"홍대\\\",\\\"keywords\\\":[\\\"홍대맛집\\\", \\\"합정맛집\\\", \\\"망원맛집\\\", \\\"홍대술집\\\", \\\"합정역맛집\\\"]}]}\"\n",
    "result = DatalabTrend(body)\n",
    "df_temp = pd.DataFrame(result['results'][0]['data'])\n",
    "\n",
    "df_total['period'] = df_temp['period']\n",
    "df_total[hots[i]] = df_temp['ratio']"
   ]
  },
  {
   "cell_type": "markdown",
   "metadata": {},
   "source": [
    "## 연남"
   ]
  },
  {
   "cell_type": "code",
   "execution_count": 42,
   "metadata": {
    "ExecuteTime": {
     "end_time": "2021-09-30T14:36:43.900864Z",
     "start_time": "2021-09-30T14:36:43.889580Z"
    }
   },
   "outputs": [
    {
     "data": {
      "text/plain": [
       "keyword       [연남동맛집, 연남동카페, 연남동술집, 연희동맛집, 연희동카페]\n",
       "pc                 [9800, 4260, 1310, 2860, 1230]\n",
       "mobile       [113800, 49300, 13300, 29400, 12200]\n",
       "sum_pc                                      19460\n",
       "sum_mobil                                  218000\n",
       "sum_total                                  237460\n",
       "Name: 연남, dtype: object"
      ]
     },
     "execution_count": 42,
     "metadata": {},
     "output_type": "execute_result"
    }
   ],
   "source": [
    "i+=1\n",
    "df[hots[i]]"
   ]
  },
  {
   "cell_type": "code",
   "execution_count": 43,
   "metadata": {
    "ExecuteTime": {
     "end_time": "2021-09-30T14:36:44.866047Z",
     "start_time": "2021-09-30T14:36:44.329101Z"
    }
   },
   "outputs": [],
   "source": [
    "#연남\n",
    "body = \"{\\\"startDate\\\":\\\"2016-01-01\\\",\\\"endDate\\\":\\\"2021-09-29\\\",\\\"timeUnit\\\":\\\"date\\\",\\\"keywordGroups\\\":[{\\\"groupName\\\":\\\"연남\\\",\\\"keywords\\\":[\\\"연남동맛집\\\", \\\"연남동카페\\\", \\\"연남동술집\\\", \\\"연희동맛집\\\", \\\"연희동카페\\\"]}]}\"\n",
    "result = DatalabTrend(body)\n",
    "df_temp = pd.DataFrame(result['results'][0]['data'])\n",
    "\n",
    "df_total['period'] = df_temp['period']\n",
    "df_total[hots[i]] = df_temp['ratio']"
   ]
  },
  {
   "cell_type": "code",
   "execution_count": 44,
   "metadata": {
    "ExecuteTime": {
     "end_time": "2021-09-30T14:36:45.034927Z",
     "start_time": "2021-09-30T14:36:45.007329Z"
    }
   },
   "outputs": [
    {
     "data": {
      "text/html": [
       "<div>\n",
       "<style scoped>\n",
       "    .dataframe tbody tr th:only-of-type {\n",
       "        vertical-align: middle;\n",
       "    }\n",
       "\n",
       "    .dataframe tbody tr th {\n",
       "        vertical-align: top;\n",
       "    }\n",
       "\n",
       "    .dataframe thead th {\n",
       "        text-align: right;\n",
       "    }\n",
       "</style>\n",
       "<table border=\"1\" class=\"dataframe\">\n",
       "  <thead>\n",
       "    <tr style=\"text-align: right;\">\n",
       "      <th></th>\n",
       "      <th>period</th>\n",
       "      <th>홍대</th>\n",
       "      <th>연남</th>\n",
       "    </tr>\n",
       "  </thead>\n",
       "  <tbody>\n",
       "    <tr>\n",
       "      <td>0</td>\n",
       "      <td>2016-01-01</td>\n",
       "      <td>64.76396</td>\n",
       "      <td>94.18343</td>\n",
       "    </tr>\n",
       "    <tr>\n",
       "      <td>1</td>\n",
       "      <td>2016-01-02</td>\n",
       "      <td>63.41169</td>\n",
       "      <td>100.00000</td>\n",
       "    </tr>\n",
       "    <tr>\n",
       "      <td>2</td>\n",
       "      <td>2016-01-03</td>\n",
       "      <td>48.10873</td>\n",
       "      <td>88.63003</td>\n",
       "    </tr>\n",
       "    <tr>\n",
       "      <td>3</td>\n",
       "      <td>2016-01-04</td>\n",
       "      <td>48.84521</td>\n",
       "      <td>89.97678</td>\n",
       "    </tr>\n",
       "    <tr>\n",
       "      <td>4</td>\n",
       "      <td>2016-01-05</td>\n",
       "      <td>53.02548</td>\n",
       "      <td>83.54489</td>\n",
       "    </tr>\n",
       "    <tr>\n",
       "      <td>...</td>\n",
       "      <td>...</td>\n",
       "      <td>...</td>\n",
       "      <td>...</td>\n",
       "    </tr>\n",
       "    <tr>\n",
       "      <td>2094</td>\n",
       "      <td>2021-09-25</td>\n",
       "      <td>18.28181</td>\n",
       "      <td>38.51393</td>\n",
       "    </tr>\n",
       "    <tr>\n",
       "      <td>2095</td>\n",
       "      <td>2021-09-26</td>\n",
       "      <td>14.69950</td>\n",
       "      <td>33.70356</td>\n",
       "    </tr>\n",
       "    <tr>\n",
       "      <td>2096</td>\n",
       "      <td>2021-09-27</td>\n",
       "      <td>11.03628</td>\n",
       "      <td>23.26625</td>\n",
       "    </tr>\n",
       "    <tr>\n",
       "      <td>2097</td>\n",
       "      <td>2021-09-28</td>\n",
       "      <td>10.62896</td>\n",
       "      <td>22.89860</td>\n",
       "    </tr>\n",
       "    <tr>\n",
       "      <td>2098</td>\n",
       "      <td>2021-09-29</td>\n",
       "      <td>10.80039</td>\n",
       "      <td>22.30650</td>\n",
       "    </tr>\n",
       "  </tbody>\n",
       "</table>\n",
       "<p>2099 rows × 3 columns</p>\n",
       "</div>"
      ],
      "text/plain": [
       "          period        홍대         연남\n",
       "0     2016-01-01  64.76396   94.18343\n",
       "1     2016-01-02  63.41169  100.00000\n",
       "2     2016-01-03  48.10873   88.63003\n",
       "3     2016-01-04  48.84521   89.97678\n",
       "4     2016-01-05  53.02548   83.54489\n",
       "...          ...       ...        ...\n",
       "2094  2021-09-25  18.28181   38.51393\n",
       "2095  2021-09-26  14.69950   33.70356\n",
       "2096  2021-09-27  11.03628   23.26625\n",
       "2097  2021-09-28  10.62896   22.89860\n",
       "2098  2021-09-29  10.80039   22.30650\n",
       "\n",
       "[2099 rows x 3 columns]"
      ]
     },
     "execution_count": 44,
     "metadata": {},
     "output_type": "execute_result"
    }
   ],
   "source": [
    "df_total"
   ]
  },
  {
   "cell_type": "code",
   "execution_count": 45,
   "metadata": {
    "ExecuteTime": {
     "end_time": "2021-09-30T14:36:46.983055Z",
     "start_time": "2021-09-30T14:36:46.978000Z"
    }
   },
   "outputs": [],
   "source": [
    "# request = urllib.request.Request(url)\n",
    "# request.add_header(\"X-Naver-Client-Id\",client_id)\n",
    "# request.add_header(\"X-Naver-Client-Secret\",client_secret)\n",
    "# request.add_header(\"Content-Type\",\"application/json\")\n",
    "# response = urllib.request.urlopen(request, data=body.encode(\"utf-8\"))\n",
    "# rescode = response.getcode()\n",
    "# if(rescode==200):\n",
    "#     response_body = response.read()\n",
    "# #     print(response_body.decode('utf-8'))\n",
    "# else:\n",
    "#     print(\"Error Code:\" + rescode)\n",
    "# #result = json.loads(scraped)\n",
    "# result = json.loads(response_body)\n",
    "\n",
    "# df_temp = pd.DataFrame(result['results'][0]['data'])\n",
    "\n",
    "# #df_total['period'] = df_temp['period']\n",
    "# df_total[hots[i]] = df_temp['ratio']"
   ]
  },
  {
   "cell_type": "markdown",
   "metadata": {},
   "source": [
    "## 이태원"
   ]
  },
  {
   "cell_type": "code",
   "execution_count": 46,
   "metadata": {
    "ExecuteTime": {
     "end_time": "2021-09-30T14:36:47.717539Z",
     "start_time": "2021-09-30T14:36:47.702139Z"
    }
   },
   "outputs": [
    {
     "data": {
      "text/plain": [
       "keyword      [이태원맛집, 경리단길, 이태원술집, 해방촌맛집, 후암동맛집]\n",
       "pc                [6610, 3330, 850, 2270, 1170]\n",
       "mobile        [80500, 24000, 9300, 24600, 8690]\n",
       "sum_pc                                    14230\n",
       "sum_mobil                                147090\n",
       "sum_total                                161320\n",
       "Name: 이태원, dtype: object"
      ]
     },
     "execution_count": 46,
     "metadata": {},
     "output_type": "execute_result"
    }
   ],
   "source": [
    "i+=1\n",
    "df[hots[i]]"
   ]
  },
  {
   "cell_type": "code",
   "execution_count": 47,
   "metadata": {
    "ExecuteTime": {
     "end_time": "2021-09-30T14:36:48.970002Z",
     "start_time": "2021-09-30T14:36:47.962497Z"
    }
   },
   "outputs": [],
   "source": [
    "#이태원\n",
    "body = \"{\\\"startDate\\\":\\\"2016-01-01\\\",\\\"endDate\\\":\\\"2021-09-29\\\",\\\"timeUnit\\\":\\\"date\\\",\\\"keywordGroups\\\":[{\\\"groupName\\\":\\\"이태원\\\",\\\"keywords\\\":[\\\"이태원맛집\\\", \\\"경리단길\\\", \\\"이태원술집\\\", \\\"해방촌맛집\\\", \\\"후암동맛집\\\"]}]}\"\n",
    "result = DatalabTrend(body)\n",
    "df_temp = pd.DataFrame(result['results'][0]['data'])\n",
    "\n",
    "df_total['period'] = df_temp['period']\n",
    "df_total[hots[i]] = df_temp['ratio']"
   ]
  },
  {
   "cell_type": "markdown",
   "metadata": {},
   "source": [
    "## 종로"
   ]
  },
  {
   "cell_type": "code",
   "execution_count": 48,
   "metadata": {
    "ExecuteTime": {
     "end_time": "2021-09-30T14:36:49.174796Z",
     "start_time": "2021-09-30T14:36:49.162564Z"
    }
   },
   "outputs": [
    {
     "data": {
      "text/plain": [
       "keyword      [인사동맛집, 익선동맛집, 종로맛집, 종로3가맛집, 익선동카페]\n",
       "pc                [3180, 5900, 6560, 3370, 2230]\n",
       "mobile       [34200, 75700, 64900, 31900, 28200]\n",
       "sum_pc                                     21240\n",
       "sum_mobil                                 234900\n",
       "sum_total                                 256140\n",
       "Name: 종로, dtype: object"
      ]
     },
     "execution_count": 48,
     "metadata": {},
     "output_type": "execute_result"
    }
   ],
   "source": [
    "i+=1\n",
    "df[hots[i]]"
   ]
  },
  {
   "cell_type": "code",
   "execution_count": 49,
   "metadata": {
    "ExecuteTime": {
     "end_time": "2021-09-30T14:36:50.946037Z",
     "start_time": "2021-09-30T14:36:49.348379Z"
    }
   },
   "outputs": [],
   "source": [
    "#종로\n",
    "body = \"{\\\"startDate\\\":\\\"2016-01-01\\\",\\\"endDate\\\":\\\"2021-09-29\\\",\\\"timeUnit\\\":\\\"date\\\",\\\"keywordGroups\\\":[{\\\"groupName\\\":\\\"종로\\\",\\\"keywords\\\":[\\\"인사동맛집\\\", \\\"익선동맛집\\\", \\\"종로맛집\\\", \\\"종로3가맛집\\\", \\\"익선동카페\\\"]}]}\"\n",
    "result = DatalabTrend(body)\n",
    "df_temp = pd.DataFrame(result['results'][0]['data'])\n",
    "\n",
    "df_total['period'] = df_temp['period']\n",
    "df_total[hots[i]] = df_temp['ratio']"
   ]
  },
  {
   "cell_type": "markdown",
   "metadata": {},
   "source": [
    "## 을지로"
   ]
  },
  {
   "cell_type": "code",
   "execution_count": 50,
   "metadata": {
    "ExecuteTime": {
     "end_time": "2021-09-30T14:36:51.349186Z",
     "start_time": "2021-09-30T14:36:51.321622Z"
    }
   },
   "outputs": [
    {
     "data": {
      "text/plain": [
       "keyword      [을지로맛집, 을지로3가맛집, 을지로입구맛집, 충무로맛집, 을지로카페]\n",
       "pc                    [8950, 2380, 1150, 4080, 2070]\n",
       "mobile            [67200, 18900, 7020, 19500, 20600]\n",
       "sum_pc                                         18630\n",
       "sum_mobil                                     133220\n",
       "sum_total                                     151850\n",
       "Name: 을지로, dtype: object"
      ]
     },
     "execution_count": 50,
     "metadata": {},
     "output_type": "execute_result"
    }
   ],
   "source": [
    "i+=1\n",
    "df[hots[i]]"
   ]
  },
  {
   "cell_type": "code",
   "execution_count": 51,
   "metadata": {
    "ExecuteTime": {
     "end_time": "2021-09-30T14:36:53.174588Z",
     "start_time": "2021-09-30T14:36:51.556146Z"
    }
   },
   "outputs": [],
   "source": [
    "#을지로\n",
    "body = \"{\\\"startDate\\\":\\\"2016-01-01\\\",\\\"endDate\\\":\\\"2021-09-29\\\",\\\"timeUnit\\\":\\\"date\\\",\\\"keywordGroups\\\":[{\\\"groupName\\\":\\\"을지로\\\",\\\"keywords\\\":[\\\"을지로맛집\\\", \\\"을지로3가맛집\\\", \\\"을지로입구맛집\\\", \\\"충무로맛집\\\", \\\"을지로카페\\\"]}]}\"\n",
    "result = DatalabTrend(body)\n",
    "df_temp = pd.DataFrame(result['results'][0]['data'])\n",
    "\n",
    "df_total['period'] = df_temp['period']\n",
    "df_total[hots[i]] = df_temp['ratio']"
   ]
  },
  {
   "cell_type": "markdown",
   "metadata": {},
   "source": [
    "## 성수"
   ]
  },
  {
   "cell_type": "code",
   "execution_count": 52,
   "metadata": {
    "ExecuteTime": {
     "end_time": "2021-09-30T14:36:53.854335Z",
     "start_time": "2021-09-30T14:36:53.842408Z"
    }
   },
   "outputs": [
    {
     "data": {
      "text/plain": [
       "keyword        [성수맛집, 성수동맛집, 서울숲맛집, 성수역맛집, 성수카페]\n",
       "pc                [9230, 6920, 5420, 3610, 3870]\n",
       "mobile       [96500, 70000, 63500, 24700, 44500]\n",
       "sum_pc                                     29050\n",
       "sum_mobil                                 299200\n",
       "sum_total                                 328250\n",
       "Name: 성수, dtype: object"
      ]
     },
     "execution_count": 52,
     "metadata": {},
     "output_type": "execute_result"
    }
   ],
   "source": [
    "i+=1\n",
    "df[hots[i]]"
   ]
  },
  {
   "cell_type": "code",
   "execution_count": 53,
   "metadata": {
    "ExecuteTime": {
     "end_time": "2021-09-30T14:36:55.010151Z",
     "start_time": "2021-09-30T14:36:54.415763Z"
    }
   },
   "outputs": [],
   "source": [
    "#성수\n",
    "body = \"{\\\"startDate\\\":\\\"2016-01-01\\\",\\\"endDate\\\":\\\"2021-09-29\\\",\\\"timeUnit\\\":\\\"date\\\",\\\"keywordGroups\\\":[{\\\"groupName\\\":\\\"성수\\\",\\\"keywords\\\":[\\\"성수맛집\\\", \\\"성수동맛집\\\", \\\"서울숲맛집\\\", \\\"성수역맛집\\\", \\\"성수카페\\\"]}]}\"\n",
    "result = DatalabTrend(body)\n",
    "df_temp = pd.DataFrame(result['results'][0]['data'])\n",
    "\n",
    "df_total['period'] = df_temp['period']\n",
    "df_total[hots[i]] = df_temp['ratio']"
   ]
  },
  {
   "cell_type": "markdown",
   "metadata": {},
   "source": [
    "## 한남"
   ]
  },
  {
   "cell_type": "code",
   "execution_count": 54,
   "metadata": {
    "ExecuteTime": {
     "end_time": "2021-09-30T14:36:55.913110Z",
     "start_time": "2021-09-30T14:36:55.902306Z"
    }
   },
   "outputs": [
    {
     "data": {
      "text/plain": [
       "keyword      [한남동맛집, 한남동카페, 한남맛집, 옥수동맛집, 금호동맛집]\n",
       "pc                  [5960, 2620, 890, 420, 800]\n",
       "mobile        [62500, 24800, 10000, 4490, 8370]\n",
       "sum_pc                                    10690\n",
       "sum_mobil                                110160\n",
       "sum_total                                120850\n",
       "Name: 한남, dtype: object"
      ]
     },
     "execution_count": 54,
     "metadata": {},
     "output_type": "execute_result"
    }
   ],
   "source": [
    "i+=1\n",
    "df[hots[i]]"
   ]
  },
  {
   "cell_type": "code",
   "execution_count": 55,
   "metadata": {
    "ExecuteTime": {
     "end_time": "2021-09-30T14:36:56.936945Z",
     "start_time": "2021-09-30T14:36:56.391346Z"
    }
   },
   "outputs": [],
   "source": [
    "#한남\n",
    "body = \"{\\\"startDate\\\":\\\"2016-01-01\\\",\\\"endDate\\\":\\\"2021-09-29\\\",\\\"timeUnit\\\":\\\"date\\\",\\\"keywordGroups\\\":[{\\\"groupName\\\":\\\"한남\\\",\\\"keywords\\\":[\\\"한남동맛집\\\", \\\"한남동카페\\\", \\\"한남맛집\\\", \\\"옥수동맛집\\\", \\\"금호동맛집\\\"]}]}\"\n",
    "result = DatalabTrend(body)\n",
    "df_temp = pd.DataFrame(result['results'][0]['data'])\n",
    "\n",
    "df_total['period'] = df_temp['period']\n",
    "df_total[hots[i]] = df_temp['ratio']"
   ]
  },
  {
   "cell_type": "markdown",
   "metadata": {},
   "source": [
    "## 청담"
   ]
  },
  {
   "cell_type": "code",
   "execution_count": 56,
   "metadata": {
    "ExecuteTime": {
     "end_time": "2021-09-30T14:36:57.816273Z",
     "start_time": "2021-09-30T14:36:57.803880Z"
    }
   },
   "outputs": [
    {
     "data": {
      "text/plain": [
       "keyword      [청담동맛집, 청담맛집, 청담카페, 도산공원맛집, 학동역맛집]\n",
       "pc                [2030, 2890, 850, 2400, 2360]\n",
       "mobile       [15200, 30600, 9120, 20000, 10400]\n",
       "sum_pc                                    10530\n",
       "sum_mobil                                 85320\n",
       "sum_total                                 95850\n",
       "Name: 청담, dtype: object"
      ]
     },
     "execution_count": 56,
     "metadata": {},
     "output_type": "execute_result"
    }
   ],
   "source": [
    "i+=1\n",
    "df[hots[i]]"
   ]
  },
  {
   "cell_type": "code",
   "execution_count": 57,
   "metadata": {
    "ExecuteTime": {
     "end_time": "2021-09-30T14:36:58.898655Z",
     "start_time": "2021-09-30T14:36:58.319368Z"
    }
   },
   "outputs": [],
   "source": [
    "#청담\n",
    "body = \"{\\\"startDate\\\":\\\"2016-01-01\\\",\\\"endDate\\\":\\\"2021-09-29\\\",\\\"timeUnit\\\":\\\"date\\\",\\\"keywordGroups\\\":[{\\\"groupName\\\":\\\"청담\\\",\\\"keywords\\\":[\\\"청담동맛집\\\", \\\"청담맛집\\\", \\\"청담카페\\\", \\\"도산공원맛집\\\", \\\"학동역맛집\\\"]}]}\"\n",
    "result = DatalabTrend(body)\n",
    "df_temp = pd.DataFrame(result['results'][0]['data'])\n",
    "\n",
    "df_total['period'] = df_temp['period']\n",
    "df_total[hots[i]] = df_temp['ratio']"
   ]
  },
  {
   "cell_type": "markdown",
   "metadata": {},
   "source": [
    "## 신사"
   ]
  },
  {
   "cell_type": "code",
   "execution_count": 58,
   "metadata": {
    "ExecuteTime": {
     "end_time": "2021-09-30T14:36:59.613668Z",
     "start_time": "2021-09-30T14:36:59.602794Z"
    }
   },
   "outputs": [
    {
     "data": {
      "text/plain": [
       "keyword      [신사역맛집, 가로수길맛집, 신사맛집, 가로수길카페, 압구정맛집]\n",
       "pc                 [3840, 6100, 1880, 2020, 5340]\n",
       "mobile        [29000, 68700, 15900, 26900, 57200]\n",
       "sum_pc                                      19180\n",
       "sum_mobil                                  197700\n",
       "sum_total                                  216880\n",
       "Name: 신사, dtype: object"
      ]
     },
     "execution_count": 58,
     "metadata": {},
     "output_type": "execute_result"
    }
   ],
   "source": [
    "i+=1\n",
    "df[hots[i]]"
   ]
  },
  {
   "cell_type": "code",
   "execution_count": 59,
   "metadata": {
    "ExecuteTime": {
     "end_time": "2021-09-30T14:37:00.513867Z",
     "start_time": "2021-09-30T14:37:00.040201Z"
    }
   },
   "outputs": [],
   "source": [
    "#신사\n",
    "body = \"{\\\"startDate\\\":\\\"2016-01-01\\\",\\\"endDate\\\":\\\"2021-09-29\\\",\\\"timeUnit\\\":\\\"date\\\",\\\"keywordGroups\\\":[{\\\"groupName\\\":\\\"신사\\\",\\\"keywords\\\":[\\\"신사역맛집\\\", \\\"가로수길맛집\\\", \\\"신사맛집\\\", \\\"가로수길카페\\\", \\\"압구정맛집\\\"]}]}\"\n",
    "result = DatalabTrend(body)\n",
    "df_temp = pd.DataFrame(result['results'][0]['data'])\n",
    "\n",
    "df_total['period'] = df_temp['period']\n",
    "df_total[hots[i]] = df_temp['ratio']"
   ]
  },
  {
   "cell_type": "markdown",
   "metadata": {},
   "source": [
    "## 삼청"
   ]
  },
  {
   "cell_type": "code",
   "execution_count": 60,
   "metadata": {
    "ExecuteTime": {
     "end_time": "2021-09-30T14:37:01.140881Z",
     "start_time": "2021-09-30T14:37:01.128433Z"
    }
   },
   "outputs": [
    {
     "data": {
      "text/plain": [
       "keyword       [삼청동맛집, 경복궁맛집, 안국역맛집, 북촌맛집, 북촌카페]\n",
       "pc                [2950, 3200, 3490, 1750, 720]\n",
       "mobile       [34800, 37100, 32100, 17100, 7390]\n",
       "sum_pc                                    12110\n",
       "sum_mobil                                128490\n",
       "sum_total                                140600\n",
       "Name: 삼청, dtype: object"
      ]
     },
     "execution_count": 60,
     "metadata": {},
     "output_type": "execute_result"
    }
   ],
   "source": [
    "i+=1\n",
    "df[hots[i]]"
   ]
  },
  {
   "cell_type": "code",
   "execution_count": 61,
   "metadata": {
    "ExecuteTime": {
     "end_time": "2021-09-30T14:37:02.181220Z",
     "start_time": "2021-09-30T14:37:01.632839Z"
    }
   },
   "outputs": [],
   "source": [
    "#삼청\n",
    "body = \"{\\\"startDate\\\":\\\"2016-01-01\\\",\\\"endDate\\\":\\\"2021-09-29\\\",\\\"timeUnit\\\":\\\"date\\\",\\\"keywordGroups\\\":[{\\\"groupName\\\":\\\"삼청\\\",\\\"keywords\\\":[\\\"삼청동맛집\\\", \\\"경복궁맛집\\\", \\\"안국역맛집\\\", \\\"북촌맛집\\\", \\\"북촌카페\\\"]}]}\"\n",
    "result = DatalabTrend(body)\n",
    "df_temp = pd.DataFrame(result['results'][0]['data'])\n",
    "\n",
    "df_total['period'] = df_temp['period']\n",
    "df_total[hots[i]] = df_temp['ratio']"
   ]
  },
  {
   "cell_type": "markdown",
   "metadata": {},
   "source": [
    "## 서촌"
   ]
  },
  {
   "cell_type": "code",
   "execution_count": 62,
   "metadata": {
    "ExecuteTime": {
     "end_time": "2021-09-30T14:37:02.464454Z",
     "start_time": "2021-09-30T14:37:02.454025Z"
    }
   },
   "outputs": [
    {
     "data": {
      "text/plain": [
       "keyword      [서촌맛집, 서촌카페, 부암동맛집, 부암동카페, 경복궁역맛집]\n",
       "pc                [5800, 2430, 1390, 660, 2170]\n",
       "mobile       [59700, 23000, 17000, 9170, 19600]\n",
       "sum_pc                                    12450\n",
       "sum_mobil                                128470\n",
       "sum_total                                140920\n",
       "Name: 서촌, dtype: object"
      ]
     },
     "execution_count": 62,
     "metadata": {},
     "output_type": "execute_result"
    }
   ],
   "source": [
    "i+=1\n",
    "df[hots[i]]"
   ]
  },
  {
   "cell_type": "code",
   "execution_count": 63,
   "metadata": {
    "ExecuteTime": {
     "end_time": "2021-09-30T14:37:03.638463Z",
     "start_time": "2021-09-30T14:37:02.954530Z"
    }
   },
   "outputs": [],
   "source": [
    "#서촌\n",
    "body = \"{\\\"startDate\\\":\\\"2016-01-01\\\",\\\"endDate\\\":\\\"2021-09-29\\\",\\\"timeUnit\\\":\\\"date\\\",\\\"keywordGroups\\\":[{\\\"groupName\\\":\\\"서촌\\\",\\\"keywords\\\":[\\\"서촌맛집\\\", \\\"서촌카페\\\", \\\"부암동맛집\\\", \\\"부암동카페\\\", \\\"경복궁역맛집\\\"]}]}\"\n",
    "result = DatalabTrend(body)\n",
    "df_temp = pd.DataFrame(result['results'][0]['data'])\n",
    "\n",
    "df_total['period'] = df_temp['period']\n",
    "df_total[hots[i]] = df_temp['ratio']"
   ]
  },
  {
   "cell_type": "markdown",
   "metadata": {},
   "source": [
    "## 장충"
   ]
  },
  {
   "cell_type": "code",
   "execution_count": 64,
   "metadata": {
    "ExecuteTime": {
     "end_time": "2021-09-30T14:37:03.879066Z",
     "start_time": "2021-09-30T14:37:03.863929Z"
    }
   },
   "outputs": [
    {
     "data": {
      "text/plain": [
       "keyword      [장충동맛집, 약수역맛집, 신당동맛집, 신당역맛집, 청구역맛집]\n",
       "pc                  [440, 1620, 1050, 1310, 370]\n",
       "mobile          [4020, 10900, 9420, 10500, 2320]\n",
       "sum_pc                                      4790\n",
       "sum_mobil                                  37160\n",
       "sum_total                                  41950\n",
       "Name: 장충, dtype: object"
      ]
     },
     "execution_count": 64,
     "metadata": {},
     "output_type": "execute_result"
    }
   ],
   "source": [
    "i+=1\n",
    "df[hots[i]]"
   ]
  },
  {
   "cell_type": "code",
   "execution_count": 65,
   "metadata": {
    "ExecuteTime": {
     "end_time": "2021-09-30T14:37:04.734947Z",
     "start_time": "2021-09-30T14:37:04.230689Z"
    }
   },
   "outputs": [],
   "source": [
    "#장충\n",
    "body = \"{\\\"startDate\\\":\\\"2016-01-01\\\",\\\"endDate\\\":\\\"2021-09-29\\\",\\\"timeUnit\\\":\\\"date\\\",\\\"keywordGroups\\\":[{\\\"groupName\\\":\\\"장충\\\",\\\"keywords\\\":[\\\"장충동맛집\\\", \\\"약수역맛집\\\", \\\"신당동맛집\\\", \\\"신당역맛집\\\", \\\"청구역맛집\\\"]}]}\"\n",
    "result = DatalabTrend(body)\n",
    "df_temp = pd.DataFrame(result['results'][0]['data'])\n",
    "\n",
    "df_total['period'] = df_temp['period']\n",
    "df_total[hots[i]] = df_temp['ratio']"
   ]
  },
  {
   "cell_type": "markdown",
   "metadata": {},
   "source": [
    "## 반포"
   ]
  },
  {
   "cell_type": "code",
   "execution_count": 66,
   "metadata": {
    "ExecuteTime": {
     "end_time": "2021-09-30T14:37:05.312439Z",
     "start_time": "2021-09-30T14:37:05.302358Z"
    }
   },
   "outputs": [
    {
     "data": {
      "text/plain": [
       "keyword      [서래마을맛집, 이수역맛집, 방배동맛집, 이수맛집, 반포맛집]\n",
       "pc                [2450, 3840, 1060, 1120, 900]\n",
       "mobile         [24400, 24700, 7620, 8110, 9810]\n",
       "sum_pc                                     9370\n",
       "sum_mobil                                 74640\n",
       "sum_total                                 84010\n",
       "Name: 반포, dtype: object"
      ]
     },
     "execution_count": 66,
     "metadata": {},
     "output_type": "execute_result"
    }
   ],
   "source": [
    "i+=1\n",
    "df[hots[i]]"
   ]
  },
  {
   "cell_type": "code",
   "execution_count": 67,
   "metadata": {
    "ExecuteTime": {
     "end_time": "2021-09-30T14:37:06.481950Z",
     "start_time": "2021-09-30T14:37:05.939171Z"
    }
   },
   "outputs": [],
   "source": [
    "#반포\n",
    "body = \"{\\\"startDate\\\":\\\"2016-01-01\\\",\\\"endDate\\\":\\\"2021-09-29\\\",\\\"timeUnit\\\":\\\"date\\\",\\\"keywordGroups\\\":[{\\\"groupName\\\":\\\"반포\\\",\\\"keywords\\\":[\\\"서래마을맛집\\\", \\\"이수역맛집\\\", \\\"방배동맛집\\\", \\\"이수맛집\\\", \\\"반포맛집\\\"]}]}\"\n",
    "result = DatalabTrend(body)\n",
    "df_temp = pd.DataFrame(result['results'][0]['data'])\n",
    "\n",
    "df_total['period'] = df_temp['period']\n",
    "df_total[hots[i]] = df_temp['ratio']"
   ]
  },
  {
   "cell_type": "markdown",
   "metadata": {},
   "source": [
    "## 혜화"
   ]
  },
  {
   "cell_type": "code",
   "execution_count": 68,
   "metadata": {
    "ExecuteTime": {
     "end_time": "2021-09-30T14:37:07.125546Z",
     "start_time": "2021-09-30T14:37:07.114462Z"
    }
   },
   "outputs": [
    {
     "data": {
      "text/plain": [
       "keyword       [혜화맛집, 대학로맛집, 혜화역맛집, 대학로카페, 혜화카페]\n",
       "pc                [4420, 3940, 2350, 630, 1140]\n",
       "mobile       [52100, 39200, 24700, 6680, 15700]\n",
       "sum_pc                                    12480\n",
       "sum_mobil                                138380\n",
       "sum_total                                150860\n",
       "Name: 혜화, dtype: object"
      ]
     },
     "execution_count": 68,
     "metadata": {},
     "output_type": "execute_result"
    }
   ],
   "source": [
    "i+=1\n",
    "df[hots[i]]"
   ]
  },
  {
   "cell_type": "code",
   "execution_count": 69,
   "metadata": {
    "ExecuteTime": {
     "end_time": "2021-09-30T14:37:08.104875Z",
     "start_time": "2021-09-30T14:37:07.630007Z"
    }
   },
   "outputs": [],
   "source": [
    "#혜화\n",
    "body = \"{\\\"startDate\\\":\\\"2016-01-01\\\",\\\"endDate\\\":\\\"2021-09-29\\\",\\\"timeUnit\\\":\\\"date\\\",\\\"keywordGroups\\\":[{\\\"groupName\\\":\\\"혜화\\\",\\\"keywords\\\":[\\\"혜화맛집\\\", \\\"대학로맛집\\\", \\\"혜화역맛집\\\", \\\"대학로카페\\\", \\\"혜화카페\\\"]}]}\"\n",
    "result = DatalabTrend(body)\n",
    "df_temp = pd.DataFrame(result['results'][0]['data'])\n",
    "\n",
    "df_total['period'] = df_temp['period']\n",
    "df_total[hots[i]] = df_temp['ratio']"
   ]
  },
  {
   "cell_type": "markdown",
   "metadata": {},
   "source": [
    "## 신촌"
   ]
  },
  {
   "cell_type": "code",
   "execution_count": 70,
   "metadata": {
    "ExecuteTime": {
     "end_time": "2021-09-30T14:37:08.451437Z",
     "start_time": "2021-09-30T14:37:08.439904Z"
    }
   },
   "outputs": [
    {
     "data": {
      "text/plain": [
       "keyword        [신촌맛집, 신촌역맛집, 이대맛집, 신촌술집, 신촌카페]\n",
       "pc                [6490, 1030, 1380, 730, 990]\n",
       "mobile       [73700, 9850, 13100, 7010, 13600]\n",
       "sum_pc                                   10620\n",
       "sum_mobil                               117260\n",
       "sum_total                               127880\n",
       "Name: 신촌, dtype: object"
      ]
     },
     "execution_count": 70,
     "metadata": {},
     "output_type": "execute_result"
    }
   ],
   "source": [
    "i+=1\n",
    "df[hots[i]]"
   ]
  },
  {
   "cell_type": "code",
   "execution_count": 71,
   "metadata": {
    "ExecuteTime": {
     "end_time": "2021-09-30T14:37:09.368916Z",
     "start_time": "2021-09-30T14:37:08.915013Z"
    }
   },
   "outputs": [],
   "source": [
    "#신촌\n",
    "body = \"{\\\"startDate\\\":\\\"2016-01-01\\\",\\\"endDate\\\":\\\"2021-09-29\\\",\\\"timeUnit\\\":\\\"date\\\",\\\"keywordGroups\\\":[{\\\"groupName\\\":\\\"연남\\\",\\\"keywords\\\":[\\\"신촌맛집\\\", \\\"신촌역맛집\\\", \\\"이대맛집\\\", \\\"신촌술집\\\", \\\"신촌카페\\\"]}]}\"\n",
    "result = DatalabTrend(body)\n",
    "df_temp = pd.DataFrame(result['results'][0]['data'])\n",
    "\n",
    "df_total['period'] = df_temp['period']\n",
    "df_total[hots[i]] = df_temp['ratio']"
   ]
  },
  {
   "cell_type": "markdown",
   "metadata": {},
   "source": [
    "## 강남"
   ]
  },
  {
   "cell_type": "code",
   "execution_count": 72,
   "metadata": {
    "ExecuteTime": {
     "end_time": "2021-09-30T14:37:09.712462Z",
     "start_time": "2021-09-30T14:37:09.701489Z"
    }
   },
   "outputs": [
    {
     "data": {
      "text/plain": [
       "keyword          [강남맛집, 강남역맛집, 강남역술집, 강남술집, 강남카페]\n",
       "pc               [11900, 17400, 1940, 1460, 1880]\n",
       "mobile       [94500, 129900, 16200, 11900, 19800]\n",
       "sum_pc                                      34580\n",
       "sum_mobil                                  272300\n",
       "sum_total                                  306880\n",
       "Name: 강남, dtype: object"
      ]
     },
     "execution_count": 72,
     "metadata": {},
     "output_type": "execute_result"
    }
   ],
   "source": [
    "i+=1\n",
    "df[hots[i]]"
   ]
  },
  {
   "cell_type": "code",
   "execution_count": 73,
   "metadata": {
    "ExecuteTime": {
     "end_time": "2021-09-30T14:37:10.725167Z",
     "start_time": "2021-09-30T14:37:10.152949Z"
    }
   },
   "outputs": [],
   "source": [
    "#강남\n",
    "body = \"{\\\"startDate\\\":\\\"2016-01-01\\\",\\\"endDate\\\":\\\"2021-09-29\\\",\\\"timeUnit\\\":\\\"date\\\",\\\"keywordGroups\\\":[{\\\"groupName\\\":\\\"강남\\\",\\\"keywords\\\":[\\\"강남맛집\\\", \\\"강남역맛집\\\", \\\"강남역술집\\\", \\\"강남술집\\\", \\\"강남카페\\\"]}]}\"\n",
    "result = DatalabTrend(body)\n",
    "df_temp = pd.DataFrame(result['results'][0]['data'])\n",
    "\n",
    "df_total['period'] = df_temp['period']\n",
    "df_total[hots[i]] = df_temp['ratio']"
   ]
  },
  {
   "cell_type": "code",
   "execution_count": 74,
   "metadata": {
    "ExecuteTime": {
     "end_time": "2021-09-30T14:37:11.121449Z",
     "start_time": "2021-09-30T14:37:10.966123Z"
    }
   },
   "outputs": [
    {
     "data": {
      "text/html": [
       "<div>\n",
       "<style scoped>\n",
       "    .dataframe tbody tr th:only-of-type {\n",
       "        vertical-align: middle;\n",
       "    }\n",
       "\n",
       "    .dataframe tbody tr th {\n",
       "        vertical-align: top;\n",
       "    }\n",
       "\n",
       "    .dataframe thead th {\n",
       "        text-align: right;\n",
       "    }\n",
       "</style>\n",
       "<table border=\"1\" class=\"dataframe\">\n",
       "  <thead>\n",
       "    <tr style=\"text-align: right;\">\n",
       "      <th></th>\n",
       "      <th>period</th>\n",
       "      <th>홍대</th>\n",
       "      <th>연남</th>\n",
       "      <th>이태원</th>\n",
       "      <th>종로</th>\n",
       "      <th>을지로</th>\n",
       "      <th>성수</th>\n",
       "      <th>한남</th>\n",
       "      <th>청담</th>\n",
       "      <th>신사</th>\n",
       "      <th>삼청</th>\n",
       "      <th>서촌</th>\n",
       "      <th>장충</th>\n",
       "      <th>반포</th>\n",
       "      <th>혜화</th>\n",
       "      <th>신촌</th>\n",
       "      <th>강남</th>\n",
       "    </tr>\n",
       "  </thead>\n",
       "  <tbody>\n",
       "    <tr>\n",
       "      <td>0</td>\n",
       "      <td>2016-01-01</td>\n",
       "      <td>64.76396</td>\n",
       "      <td>94.18343</td>\n",
       "      <td>14.41566</td>\n",
       "      <td>60.73170</td>\n",
       "      <td>19.41631</td>\n",
       "      <td>13.32751</td>\n",
       "      <td>29.84660</td>\n",
       "      <td>37.24718</td>\n",
       "      <td>69.14475</td>\n",
       "      <td>62.70760</td>\n",
       "      <td>32.92486</td>\n",
       "      <td>44.31330</td>\n",
       "      <td>48.41673</td>\n",
       "      <td>73.79971</td>\n",
       "      <td>49.98280</td>\n",
       "      <td>51.58155</td>\n",
       "    </tr>\n",
       "    <tr>\n",
       "      <td>1</td>\n",
       "      <td>2016-01-02</td>\n",
       "      <td>63.41169</td>\n",
       "      <td>100.00000</td>\n",
       "      <td>15.30375</td>\n",
       "      <td>72.39395</td>\n",
       "      <td>25.01488</td>\n",
       "      <td>14.16979</td>\n",
       "      <td>34.52226</td>\n",
       "      <td>45.56807</td>\n",
       "      <td>76.35022</td>\n",
       "      <td>63.77052</td>\n",
       "      <td>37.78619</td>\n",
       "      <td>45.97639</td>\n",
       "      <td>54.90003</td>\n",
       "      <td>77.61853</td>\n",
       "      <td>56.48033</td>\n",
       "      <td>56.44428</td>\n",
       "    </tr>\n",
       "    <tr>\n",
       "      <td>2</td>\n",
       "      <td>2016-01-03</td>\n",
       "      <td>48.10873</td>\n",
       "      <td>88.63003</td>\n",
       "      <td>11.49163</td>\n",
       "      <td>67.55567</td>\n",
       "      <td>17.30621</td>\n",
       "      <td>13.27101</td>\n",
       "      <td>28.62687</td>\n",
       "      <td>37.79693</td>\n",
       "      <td>68.52469</td>\n",
       "      <td>52.02619</td>\n",
       "      <td>28.25701</td>\n",
       "      <td>38.41201</td>\n",
       "      <td>47.57887</td>\n",
       "      <td>62.79417</td>\n",
       "      <td>52.13894</td>\n",
       "      <td>55.05309</td>\n",
       "    </tr>\n",
       "    <tr>\n",
       "      <td>3</td>\n",
       "      <td>2016-01-04</td>\n",
       "      <td>48.84521</td>\n",
       "      <td>89.97678</td>\n",
       "      <td>10.76049</td>\n",
       "      <td>61.08695</td>\n",
       "      <td>19.68008</td>\n",
       "      <td>13.94381</td>\n",
       "      <td>25.79005</td>\n",
       "      <td>40.30134</td>\n",
       "      <td>65.31109</td>\n",
       "      <td>42.66394</td>\n",
       "      <td>23.55691</td>\n",
       "      <td>33.10085</td>\n",
       "      <td>50.33514</td>\n",
       "      <td>58.48305</td>\n",
       "      <td>60.02010</td>\n",
       "      <td>64.14882</td>\n",
       "    </tr>\n",
       "    <tr>\n",
       "      <td>4</td>\n",
       "      <td>2016-01-05</td>\n",
       "      <td>53.02548</td>\n",
       "      <td>83.54489</td>\n",
       "      <td>11.45626</td>\n",
       "      <td>60.63361</td>\n",
       "      <td>25.49987</td>\n",
       "      <td>15.55646</td>\n",
       "      <td>31.83330</td>\n",
       "      <td>49.02945</td>\n",
       "      <td>66.94034</td>\n",
       "      <td>43.61298</td>\n",
       "      <td>27.81360</td>\n",
       "      <td>42.06008</td>\n",
       "      <td>62.33098</td>\n",
       "      <td>52.76173</td>\n",
       "      <td>64.54668</td>\n",
       "      <td>62.61787</td>\n",
       "    </tr>\n",
       "    <tr>\n",
       "      <td>...</td>\n",
       "      <td>...</td>\n",
       "      <td>...</td>\n",
       "      <td>...</td>\n",
       "      <td>...</td>\n",
       "      <td>...</td>\n",
       "      <td>...</td>\n",
       "      <td>...</td>\n",
       "      <td>...</td>\n",
       "      <td>...</td>\n",
       "      <td>...</td>\n",
       "      <td>...</td>\n",
       "      <td>...</td>\n",
       "      <td>...</td>\n",
       "      <td>...</td>\n",
       "      <td>...</td>\n",
       "      <td>...</td>\n",
       "      <td>...</td>\n",
       "    </tr>\n",
       "    <tr>\n",
       "      <td>2094</td>\n",
       "      <td>2021-09-25</td>\n",
       "      <td>18.28181</td>\n",
       "      <td>38.51393</td>\n",
       "      <td>4.84445</td>\n",
       "      <td>28.27412</td>\n",
       "      <td>51.91015</td>\n",
       "      <td>81.19767</td>\n",
       "      <td>47.79153</td>\n",
       "      <td>26.41509</td>\n",
       "      <td>19.93158</td>\n",
       "      <td>29.83296</td>\n",
       "      <td>50.15317</td>\n",
       "      <td>42.91845</td>\n",
       "      <td>19.17254</td>\n",
       "      <td>14.41717</td>\n",
       "      <td>12.93155</td>\n",
       "      <td>19.47501</td>\n",
       "    </tr>\n",
       "    <tr>\n",
       "      <td>2095</td>\n",
       "      <td>2021-09-26</td>\n",
       "      <td>14.69950</td>\n",
       "      <td>33.70356</td>\n",
       "      <td>3.61814</td>\n",
       "      <td>23.48356</td>\n",
       "      <td>41.05334</td>\n",
       "      <td>65.08140</td>\n",
       "      <td>41.76677</td>\n",
       "      <td>21.51486</td>\n",
       "      <td>14.77442</td>\n",
       "      <td>25.49587</td>\n",
       "      <td>43.05869</td>\n",
       "      <td>35.59549</td>\n",
       "      <td>17.06922</td>\n",
       "      <td>12.44565</td>\n",
       "      <td>11.61670</td>\n",
       "      <td>13.89098</td>\n",
       "    </tr>\n",
       "    <tr>\n",
       "      <td>2096</td>\n",
       "      <td>2021-09-27</td>\n",
       "      <td>11.03628</td>\n",
       "      <td>23.26625</td>\n",
       "      <td>2.25809</td>\n",
       "      <td>16.98568</td>\n",
       "      <td>36.31413</td>\n",
       "      <td>42.50937</td>\n",
       "      <td>30.66900</td>\n",
       "      <td>19.27514</td>\n",
       "      <td>13.46589</td>\n",
       "      <td>15.74926</td>\n",
       "      <td>26.34633</td>\n",
       "      <td>32.64484</td>\n",
       "      <td>14.20894</td>\n",
       "      <td>8.12072</td>\n",
       "      <td>10.15899</td>\n",
       "      <td>14.54159</td>\n",
       "    </tr>\n",
       "    <tr>\n",
       "      <td>2097</td>\n",
       "      <td>2021-09-28</td>\n",
       "      <td>10.62896</td>\n",
       "      <td>22.89860</td>\n",
       "      <td>2.21719</td>\n",
       "      <td>17.13149</td>\n",
       "      <td>38.76457</td>\n",
       "      <td>43.63412</td>\n",
       "      <td>28.97800</td>\n",
       "      <td>21.49450</td>\n",
       "      <td>12.96771</td>\n",
       "      <td>16.01973</td>\n",
       "      <td>25.45146</td>\n",
       "      <td>35.78326</td>\n",
       "      <td>14.39963</td>\n",
       "      <td>8.59002</td>\n",
       "      <td>10.71721</td>\n",
       "      <td>15.68057</td>\n",
       "    </tr>\n",
       "    <tr>\n",
       "      <td>2098</td>\n",
       "      <td>2021-09-29</td>\n",
       "      <td>10.80039</td>\n",
       "      <td>22.30650</td>\n",
       "      <td>2.27356</td>\n",
       "      <td>17.38865</td>\n",
       "      <td>40.08338</td>\n",
       "      <td>40.06471</td>\n",
       "      <td>30.14230</td>\n",
       "      <td>20.64612</td>\n",
       "      <td>12.75390</td>\n",
       "      <td>15.97703</td>\n",
       "      <td>24.55659</td>\n",
       "      <td>33.66416</td>\n",
       "      <td>14.22627</td>\n",
       "      <td>9.18815</td>\n",
       "      <td>10.16693</td>\n",
       "      <td>15.51832</td>\n",
       "    </tr>\n",
       "  </tbody>\n",
       "</table>\n",
       "<p>2099 rows × 17 columns</p>\n",
       "</div>"
      ],
      "text/plain": [
       "          period        홍대         연남       이태원        종로       을지로        성수  \\\n",
       "0     2016-01-01  64.76396   94.18343  14.41566  60.73170  19.41631  13.32751   \n",
       "1     2016-01-02  63.41169  100.00000  15.30375  72.39395  25.01488  14.16979   \n",
       "2     2016-01-03  48.10873   88.63003  11.49163  67.55567  17.30621  13.27101   \n",
       "3     2016-01-04  48.84521   89.97678  10.76049  61.08695  19.68008  13.94381   \n",
       "4     2016-01-05  53.02548   83.54489  11.45626  60.63361  25.49987  15.55646   \n",
       "...          ...       ...        ...       ...       ...       ...       ...   \n",
       "2094  2021-09-25  18.28181   38.51393   4.84445  28.27412  51.91015  81.19767   \n",
       "2095  2021-09-26  14.69950   33.70356   3.61814  23.48356  41.05334  65.08140   \n",
       "2096  2021-09-27  11.03628   23.26625   2.25809  16.98568  36.31413  42.50937   \n",
       "2097  2021-09-28  10.62896   22.89860   2.21719  17.13149  38.76457  43.63412   \n",
       "2098  2021-09-29  10.80039   22.30650   2.27356  17.38865  40.08338  40.06471   \n",
       "\n",
       "            한남        청담        신사        삼청        서촌        장충        반포  \\\n",
       "0     29.84660  37.24718  69.14475  62.70760  32.92486  44.31330  48.41673   \n",
       "1     34.52226  45.56807  76.35022  63.77052  37.78619  45.97639  54.90003   \n",
       "2     28.62687  37.79693  68.52469  52.02619  28.25701  38.41201  47.57887   \n",
       "3     25.79005  40.30134  65.31109  42.66394  23.55691  33.10085  50.33514   \n",
       "4     31.83330  49.02945  66.94034  43.61298  27.81360  42.06008  62.33098   \n",
       "...        ...       ...       ...       ...       ...       ...       ...   \n",
       "2094  47.79153  26.41509  19.93158  29.83296  50.15317  42.91845  19.17254   \n",
       "2095  41.76677  21.51486  14.77442  25.49587  43.05869  35.59549  17.06922   \n",
       "2096  30.66900  19.27514  13.46589  15.74926  26.34633  32.64484  14.20894   \n",
       "2097  28.97800  21.49450  12.96771  16.01973  25.45146  35.78326  14.39963   \n",
       "2098  30.14230  20.64612  12.75390  15.97703  24.55659  33.66416  14.22627   \n",
       "\n",
       "            혜화        신촌        강남  \n",
       "0     73.79971  49.98280  51.58155  \n",
       "1     77.61853  56.48033  56.44428  \n",
       "2     62.79417  52.13894  55.05309  \n",
       "3     58.48305  60.02010  64.14882  \n",
       "4     52.76173  64.54668  62.61787  \n",
       "...        ...       ...       ...  \n",
       "2094  14.41717  12.93155  19.47501  \n",
       "2095  12.44565  11.61670  13.89098  \n",
       "2096   8.12072  10.15899  14.54159  \n",
       "2097   8.59002  10.71721  15.68057  \n",
       "2098   9.18815  10.16693  15.51832  \n",
       "\n",
       "[2099 rows x 17 columns]"
      ]
     },
     "execution_count": 74,
     "metadata": {},
     "output_type": "execute_result"
    }
   ],
   "source": [
    "df_total"
   ]
  },
  {
   "cell_type": "code",
   "execution_count": 80,
   "metadata": {
    "ExecuteTime": {
     "end_time": "2021-09-30T14:38:10.135525Z",
     "start_time": "2021-09-30T14:38:10.103098Z"
    }
   },
   "outputs": [],
   "source": [
    "df_total_backup = df_total\n",
    "ratio = df.loc['sum_total'] / df_total[df_total['period'] >= '2021-09-01'].sum()\n",
    "for place in hots:\n",
    "    df_total[place] *= ratio[place]\n",
    "#df_total = df_total.set_index('period')"
   ]
  },
  {
   "cell_type": "code",
   "execution_count": 577,
   "metadata": {
    "ExecuteTime": {
     "end_time": "2021-09-30T07:53:46.539865Z",
     "start_time": "2021-09-30T07:53:46.448723Z"
    }
   },
   "outputs": [],
   "source": [
    "# df_total.to_csv('data/검색량/총검색량.csv', encoding = 'utf-8-sig')\n",
    "# df.to_csv('data/hot_place_list.csv', encoding = 'utf-8-sig')"
   ]
  },
  {
   "cell_type": "code",
   "execution_count": 93,
   "metadata": {
    "ExecuteTime": {
     "end_time": "2021-10-01T05:01:19.610122Z",
     "start_time": "2021-10-01T05:01:19.599672Z"
    }
   },
   "outputs": [],
   "source": []
  },
  {
   "cell_type": "code",
   "execution_count": null,
   "metadata": {},
   "outputs": [],
   "source": [
    "# 요일별 / 연령, 성별\n",
    "\n",
    "# 날씨별\n",
    "\n"
   ]
  },
  {
   "cell_type": "markdown",
   "metadata": {},
   "source": [
    "# 시각화"
   ]
  },
  {
   "cell_type": "code",
   "execution_count": 6,
   "metadata": {
    "ExecuteTime": {
     "end_time": "2021-10-01T01:26:13.209557Z",
     "start_time": "2021-10-01T01:26:13.201593Z"
    }
   },
   "outputs": [],
   "source": [
    "import matplotlib.pyplot as plt\n",
    "import matplotlib\n",
    "import seaborn as sns\n"
   ]
  },
  {
   "cell_type": "code",
   "execution_count": 291,
   "metadata": {
    "ExecuteTime": {
     "end_time": "2021-10-01T05:57:52.135046Z",
     "start_time": "2021-10-01T05:57:52.125073Z"
    }
   },
   "outputs": [
    {
     "name": "stdout",
     "output_type": "stream",
     "text": [
      "Hangul font is set!\n"
     ]
    }
   ],
   "source": [
    "#한글폰트\n",
    "import platform\n",
    "from matplotlib import font_manager, rc\n",
    "import matplotlib.font_manager as fm\n",
    "\n",
    "plt.rcParams['axes.unicode_minus'] = False\n",
    "\n",
    "if platform.system() == 'Darwin':\n",
    "    f_path = '/Library/Fonts/Arial Unicode.ttf'\n",
    "elif platform.system() == 'Windows':\n",
    "    f_path = 'c:/Windows/Fonts/malgun.ttf'\n",
    "font_name = font_manager.FontProperties(fname=f_path).get_name()\n",
    "rc('font', family=font_name)\n",
    "\n",
    "print('Hangul font is set!')"
   ]
  },
  {
   "cell_type": "code",
   "execution_count": 88,
   "metadata": {
    "ExecuteTime": {
     "end_time": "2021-09-30T14:43:10.846048Z",
     "start_time": "2021-09-30T14:43:10.840962Z"
    }
   },
   "outputs": [],
   "source": [
    "# plt.figure(figsize=(50,10))\n",
    "# sns.lineplot(x='period', y= '혜화', data=df_total)"
   ]
  },
  {
   "cell_type": "code",
   "execution_count": 89,
   "metadata": {
    "ExecuteTime": {
     "end_time": "2021-09-30T14:43:11.682069Z",
     "start_time": "2021-09-30T14:43:11.677083Z"
    },
    "scrolled": true
   },
   "outputs": [],
   "source": [
    "# plt.figure(figsize=(50,50))\n",
    "# for place in hots[4:7]:\n",
    "#     sns.lineplot(x='period', y= place, label=place, data=df_total);"
   ]
  },
  {
   "cell_type": "markdown",
   "metadata": {},
   "source": [
    "## 연도별"
   ]
  },
  {
   "cell_type": "code",
   "execution_count": 339,
   "metadata": {
    "ExecuteTime": {
     "end_time": "2021-10-01T06:22:45.162345Z",
     "start_time": "2021-10-01T06:22:45.140237Z"
    }
   },
   "outputs": [],
   "source": [
    "df_total = pd.read_csv('data/검색량/총검색량.csv')\n",
    "df_total = df_total.drop('Unnamed: 0', axis=1)\n",
    "df_year = df_total"
   ]
  },
  {
   "cell_type": "code",
   "execution_count": 340,
   "metadata": {
    "ExecuteTime": {
     "end_time": "2021-10-01T06:22:46.238084Z",
     "start_time": "2021-10-01T06:22:46.210867Z"
    }
   },
   "outputs": [
    {
     "data": {
      "text/html": [
       "<div>\n",
       "<style scoped>\n",
       "    .dataframe tbody tr th:only-of-type {\n",
       "        vertical-align: middle;\n",
       "    }\n",
       "\n",
       "    .dataframe tbody tr th {\n",
       "        vertical-align: top;\n",
       "    }\n",
       "\n",
       "    .dataframe thead th {\n",
       "        text-align: right;\n",
       "    }\n",
       "</style>\n",
       "<table border=\"1\" class=\"dataframe\">\n",
       "  <thead>\n",
       "    <tr style=\"text-align: right;\">\n",
       "      <th></th>\n",
       "      <th>홍대</th>\n",
       "      <th>연남</th>\n",
       "      <th>이태원</th>\n",
       "      <th>종로</th>\n",
       "      <th>을지로</th>\n",
       "      <th>성수</th>\n",
       "      <th>한남</th>\n",
       "      <th>청담</th>\n",
       "      <th>신사</th>\n",
       "      <th>삼청</th>\n",
       "      <th>서촌</th>\n",
       "      <th>장충</th>\n",
       "      <th>반포</th>\n",
       "      <th>혜화</th>\n",
       "      <th>신촌</th>\n",
       "      <th>강남</th>\n",
       "    </tr>\n",
       "    <tr>\n",
       "      <th>년도</th>\n",
       "      <th></th>\n",
       "      <th></th>\n",
       "      <th></th>\n",
       "      <th></th>\n",
       "      <th></th>\n",
       "      <th></th>\n",
       "      <th></th>\n",
       "      <th></th>\n",
       "      <th></th>\n",
       "      <th></th>\n",
       "      <th></th>\n",
       "      <th></th>\n",
       "      <th></th>\n",
       "      <th></th>\n",
       "      <th></th>\n",
       "      <th></th>\n",
       "    </tr>\n",
       "  </thead>\n",
       "  <tbody>\n",
       "    <tr>\n",
       "      <td>2016</td>\n",
       "      <td>27113.255368</td>\n",
       "      <td>9779.002568</td>\n",
       "      <td>17047.086493</td>\n",
       "      <td>14160.108161</td>\n",
       "      <td>3150.576297</td>\n",
       "      <td>3787.698546</td>\n",
       "      <td>3443.158495</td>\n",
       "      <td>4426.088893</td>\n",
       "      <td>15753.169586</td>\n",
       "      <td>7095.562396</td>\n",
       "      <td>3804.300192</td>\n",
       "      <td>1532.301361</td>\n",
       "      <td>6925.116025</td>\n",
       "      <td>14798.938532</td>\n",
       "      <td>12948.096499</td>\n",
       "      <td>25169.358604</td>\n",
       "    </tr>\n",
       "    <tr>\n",
       "      <td>2017</td>\n",
       "      <td>19941.915655</td>\n",
       "      <td>8196.632612</td>\n",
       "      <td>13487.920850</td>\n",
       "      <td>9600.278582</td>\n",
       "      <td>2406.840520</td>\n",
       "      <td>4106.222538</td>\n",
       "      <td>2925.164815</td>\n",
       "      <td>3174.754744</td>\n",
       "      <td>9805.217394</td>\n",
       "      <td>5023.821752</td>\n",
       "      <td>3374.829638</td>\n",
       "      <td>1282.280122</td>\n",
       "      <td>4045.450603</td>\n",
       "      <td>9955.237284</td>\n",
       "      <td>8596.285457</td>\n",
       "      <td>19543.051425</td>\n",
       "    </tr>\n",
       "    <tr>\n",
       "      <td>2018</td>\n",
       "      <td>20991.096982</td>\n",
       "      <td>9741.620939</td>\n",
       "      <td>13358.108603</td>\n",
       "      <td>12926.901102</td>\n",
       "      <td>4317.835487</td>\n",
       "      <td>5090.443050</td>\n",
       "      <td>3705.034984</td>\n",
       "      <td>3313.952833</td>\n",
       "      <td>10473.100110</td>\n",
       "      <td>4814.563375</td>\n",
       "      <td>3278.929685</td>\n",
       "      <td>1334.027241</td>\n",
       "      <td>3907.486465</td>\n",
       "      <td>10291.705064</td>\n",
       "      <td>8528.913801</td>\n",
       "      <td>18922.679282</td>\n",
       "    </tr>\n",
       "    <tr>\n",
       "      <td>2019</td>\n",
       "      <td>15964.241670</td>\n",
       "      <td>8934.969000</td>\n",
       "      <td>9294.890194</td>\n",
       "      <td>13156.203956</td>\n",
       "      <td>6187.090973</td>\n",
       "      <td>6074.265011</td>\n",
       "      <td>3439.136617</td>\n",
       "      <td>3309.358502</td>\n",
       "      <td>8533.512961</td>\n",
       "      <td>3943.525298</td>\n",
       "      <td>2836.947339</td>\n",
       "      <td>1364.996861</td>\n",
       "      <td>3516.482967</td>\n",
       "      <td>7914.005486</td>\n",
       "      <td>6593.224269</td>\n",
       "      <td>15978.056366</td>\n",
       "    </tr>\n",
       "    <tr>\n",
       "      <td>2020</td>\n",
       "      <td>11191.197831</td>\n",
       "      <td>7926.142637</td>\n",
       "      <td>5343.257637</td>\n",
       "      <td>8497.620249</td>\n",
       "      <td>5143.160123</td>\n",
       "      <td>7153.012302</td>\n",
       "      <td>3512.923573</td>\n",
       "      <td>3351.296081</td>\n",
       "      <td>7207.656434</td>\n",
       "      <td>3202.365713</td>\n",
       "      <td>2960.981456</td>\n",
       "      <td>1354.461808</td>\n",
       "      <td>3039.276239</td>\n",
       "      <td>4804.004885</td>\n",
       "      <td>4484.200588</td>\n",
       "      <td>11916.777104</td>\n",
       "    </tr>\n",
       "    <tr>\n",
       "      <td>2021</td>\n",
       "      <td>10466.812005</td>\n",
       "      <td>8281.481168</td>\n",
       "      <td>4921.047164</td>\n",
       "      <td>8724.565043</td>\n",
       "      <td>5376.462835</td>\n",
       "      <td>9942.482719</td>\n",
       "      <td>4106.418675</td>\n",
       "      <td>3505.524033</td>\n",
       "      <td>8169.116838</td>\n",
       "      <td>3957.140265</td>\n",
       "      <td>3713.027414</td>\n",
       "      <td>1374.657467</td>\n",
       "      <td>3019.873435</td>\n",
       "      <td>4772.221046</td>\n",
       "      <td>4157.752033</td>\n",
       "      <td>11755.613231</td>\n",
       "    </tr>\n",
       "  </tbody>\n",
       "</table>\n",
       "</div>"
      ],
      "text/plain": [
       "                홍대           연남           이태원            종로          을지로  \\\n",
       "년도                                                                         \n",
       "2016  27113.255368  9779.002568  17047.086493  14160.108161  3150.576297   \n",
       "2017  19941.915655  8196.632612  13487.920850   9600.278582  2406.840520   \n",
       "2018  20991.096982  9741.620939  13358.108603  12926.901102  4317.835487   \n",
       "2019  15964.241670  8934.969000   9294.890194  13156.203956  6187.090973   \n",
       "2020  11191.197831  7926.142637   5343.257637   8497.620249  5143.160123   \n",
       "2021  10466.812005  8281.481168   4921.047164   8724.565043  5376.462835   \n",
       "\n",
       "               성수           한남           청담            신사           삼청  \\\n",
       "년도                                                                       \n",
       "2016  3787.698546  3443.158495  4426.088893  15753.169586  7095.562396   \n",
       "2017  4106.222538  2925.164815  3174.754744   9805.217394  5023.821752   \n",
       "2018  5090.443050  3705.034984  3313.952833  10473.100110  4814.563375   \n",
       "2019  6074.265011  3439.136617  3309.358502   8533.512961  3943.525298   \n",
       "2020  7153.012302  3512.923573  3351.296081   7207.656434  3202.365713   \n",
       "2021  9942.482719  4106.418675  3505.524033   8169.116838  3957.140265   \n",
       "\n",
       "               서촌           장충           반포            혜화            신촌  \\\n",
       "년도                                                                        \n",
       "2016  3804.300192  1532.301361  6925.116025  14798.938532  12948.096499   \n",
       "2017  3374.829638  1282.280122  4045.450603   9955.237284   8596.285457   \n",
       "2018  3278.929685  1334.027241  3907.486465  10291.705064   8528.913801   \n",
       "2019  2836.947339  1364.996861  3516.482967   7914.005486   6593.224269   \n",
       "2020  2960.981456  1354.461808  3039.276239   4804.004885   4484.200588   \n",
       "2021  3713.027414  1374.657467  3019.873435   4772.221046   4157.752033   \n",
       "\n",
       "                강남  \n",
       "년도                  \n",
       "2016  25169.358604  \n",
       "2017  19543.051425  \n",
       "2018  18922.679282  \n",
       "2019  15978.056366  \n",
       "2020  11916.777104  \n",
       "2021  11755.613231  "
      ]
     },
     "execution_count": 340,
     "metadata": {},
     "output_type": "execute_result"
    }
   ],
   "source": [
    "# 연별로 합치기\n",
    "\n",
    "df_year['년도']= pd.to_datetime(df_year['period'])\n",
    "df_year['년도'] = df_year['년도'].dt.year\n",
    "df_year = df_year.groupby('년도').mean()\n",
    "df_year"
   ]
  },
  {
   "cell_type": "code",
   "execution_count": 343,
   "metadata": {
    "ExecuteTime": {
     "end_time": "2021-10-01T06:24:01.100659Z",
     "start_time": "2021-10-01T06:24:00.879156Z"
    }
   },
   "outputs": [
    {
     "data": {
      "image/png": "[encoded data removed]",
      "text/plain": [
       "<Figure size 432x288 with 1 Axes>"
      ]
     },
     "metadata": {
      "needs_background": "light"
     },
     "output_type": "display_data"
    }
   ],
   "source": [
    "sns.lineplot(x = df_year.index, y =df_year.sum(axis=1), sort=False)\n",
    "#plt.savefig('data/검색량/연도별.png')"
   ]
  },
  {
   "cell_type": "code",
   "execution_count": 341,
   "metadata": {
    "ExecuteTime": {
     "end_time": "2021-10-01T06:22:53.080451Z",
     "start_time": "2021-10-01T06:22:53.073465Z"
    }
   },
   "outputs": [],
   "source": [
    "#df_year.to_csv('data/검색량/연도별평균검색량.csv', encoding='utf-8-sig')"
   ]
  },
  {
   "cell_type": "markdown",
   "metadata": {},
   "source": [
    "## 월별"
   ]
  },
  {
   "cell_type": "code",
   "execution_count": 334,
   "metadata": {
    "ExecuteTime": {
     "end_time": "2021-10-01T06:20:24.001909Z",
     "start_time": "2021-10-01T06:20:23.976470Z"
    }
   },
   "outputs": [],
   "source": [
    "df_total = pd.read_csv('data/검색량/총검색량.csv')\n",
    "df_total = df_total.drop('Unnamed: 0', axis=1)\n",
    "df_month = df_total"
   ]
  },
  {
   "cell_type": "code",
   "execution_count": 336,
   "metadata": {
    "ExecuteTime": {
     "end_time": "2021-10-01T06:20:30.458654Z",
     "start_time": "2021-10-01T06:20:30.429660Z"
    }
   },
   "outputs": [
    {
     "data": {
      "text/html": [
       "<div>\n",
       "<style scoped>\n",
       "    .dataframe tbody tr th:only-of-type {\n",
       "        vertical-align: middle;\n",
       "    }\n",
       "\n",
       "    .dataframe tbody tr th {\n",
       "        vertical-align: top;\n",
       "    }\n",
       "\n",
       "    .dataframe thead th {\n",
       "        text-align: right;\n",
       "    }\n",
       "</style>\n",
       "<table border=\"1\" class=\"dataframe\">\n",
       "  <thead>\n",
       "    <tr style=\"text-align: right;\">\n",
       "      <th></th>\n",
       "      <th>홍대</th>\n",
       "      <th>연남</th>\n",
       "      <th>이태원</th>\n",
       "      <th>종로</th>\n",
       "      <th>을지로</th>\n",
       "      <th>성수</th>\n",
       "      <th>한남</th>\n",
       "      <th>청담</th>\n",
       "      <th>신사</th>\n",
       "      <th>삼청</th>\n",
       "      <th>서촌</th>\n",
       "      <th>장충</th>\n",
       "      <th>반포</th>\n",
       "      <th>혜화</th>\n",
       "      <th>신촌</th>\n",
       "      <th>강남</th>\n",
       "    </tr>\n",
       "    <tr>\n",
       "      <th>월</th>\n",
       "      <th></th>\n",
       "      <th></th>\n",
       "      <th></th>\n",
       "      <th></th>\n",
       "      <th></th>\n",
       "      <th></th>\n",
       "      <th></th>\n",
       "      <th></th>\n",
       "      <th></th>\n",
       "      <th></th>\n",
       "      <th></th>\n",
       "      <th></th>\n",
       "      <th></th>\n",
       "      <th></th>\n",
       "      <th></th>\n",
       "      <th></th>\n",
       "    </tr>\n",
       "  </thead>\n",
       "  <tbody>\n",
       "    <tr>\n",
       "      <td>1</td>\n",
       "      <td>22964.652169</td>\n",
       "      <td>9731.493275</td>\n",
       "      <td>11751.423592</td>\n",
       "      <td>13419.831182</td>\n",
       "      <td>3984.247184</td>\n",
       "      <td>4440.367123</td>\n",
       "      <td>3182.214054</td>\n",
       "      <td>3542.312437</td>\n",
       "      <td>12658.224085</td>\n",
       "      <td>4453.229938</td>\n",
       "      <td>2749.646600</td>\n",
       "      <td>1367.657415</td>\n",
       "      <td>4336.105553</td>\n",
       "      <td>11637.233909</td>\n",
       "      <td>10802.258724</td>\n",
       "      <td>22095.225599</td>\n",
       "    </tr>\n",
       "    <tr>\n",
       "      <td>2</td>\n",
       "      <td>21884.558306</td>\n",
       "      <td>9880.437920</td>\n",
       "      <td>12185.661463</td>\n",
       "      <td>12486.876429</td>\n",
       "      <td>4246.072033</td>\n",
       "      <td>5305.910538</td>\n",
       "      <td>3618.060380</td>\n",
       "      <td>3764.181199</td>\n",
       "      <td>11951.146095</td>\n",
       "      <td>4813.436000</td>\n",
       "      <td>3121.751198</td>\n",
       "      <td>1400.213548</td>\n",
       "      <td>4481.120337</td>\n",
       "      <td>10579.044783</td>\n",
       "      <td>9758.548428</td>\n",
       "      <td>20754.106484</td>\n",
       "    </tr>\n",
       "    <tr>\n",
       "      <td>3</td>\n",
       "      <td>17484.594529</td>\n",
       "      <td>9612.968099</td>\n",
       "      <td>11611.879015</td>\n",
       "      <td>12403.062230</td>\n",
       "      <td>4461.963609</td>\n",
       "      <td>6213.463004</td>\n",
       "      <td>3741.874110</td>\n",
       "      <td>3837.032804</td>\n",
       "      <td>10041.183010</td>\n",
       "      <td>4891.539175</td>\n",
       "      <td>3272.133514</td>\n",
       "      <td>1397.124475</td>\n",
       "      <td>4883.202967</td>\n",
       "      <td>9593.503340</td>\n",
       "      <td>8358.253898</td>\n",
       "      <td>15801.662802</td>\n",
       "    </tr>\n",
       "    <tr>\n",
       "      <td>4</td>\n",
       "      <td>19613.571382</td>\n",
       "      <td>9444.913193</td>\n",
       "      <td>11896.377209</td>\n",
       "      <td>12269.802344</td>\n",
       "      <td>4608.136773</td>\n",
       "      <td>7023.646665</td>\n",
       "      <td>3924.096383</td>\n",
       "      <td>3979.448996</td>\n",
       "      <td>11944.596977</td>\n",
       "      <td>5505.720050</td>\n",
       "      <td>3725.615244</td>\n",
       "      <td>1434.208040</td>\n",
       "      <td>5214.391091</td>\n",
       "      <td>9223.469469</td>\n",
       "      <td>8709.053087</td>\n",
       "      <td>19428.697544</td>\n",
       "    </tr>\n",
       "    <tr>\n",
       "      <td>5</td>\n",
       "      <td>20391.824084</td>\n",
       "      <td>9683.201575</td>\n",
       "      <td>11881.618342</td>\n",
       "      <td>13332.628804</td>\n",
       "      <td>4822.989358</td>\n",
       "      <td>7294.449223</td>\n",
       "      <td>3967.982483</td>\n",
       "      <td>4111.276124</td>\n",
       "      <td>12136.590440</td>\n",
       "      <td>6090.304598</td>\n",
       "      <td>4201.583190</td>\n",
       "      <td>1510.687276</td>\n",
       "      <td>5150.047386</td>\n",
       "      <td>11015.734861</td>\n",
       "      <td>8502.397222</td>\n",
       "      <td>20428.042445</td>\n",
       "    </tr>\n",
       "    <tr>\n",
       "      <td>6</td>\n",
       "      <td>16552.801917</td>\n",
       "      <td>8730.784818</td>\n",
       "      <td>9913.944618</td>\n",
       "      <td>10588.804212</td>\n",
       "      <td>4730.471443</td>\n",
       "      <td>6617.169713</td>\n",
       "      <td>3482.633334</td>\n",
       "      <td>3553.967036</td>\n",
       "      <td>9574.017170</td>\n",
       "      <td>4200.509589</td>\n",
       "      <td>3453.109291</td>\n",
       "      <td>1522.077684</td>\n",
       "      <td>4097.722869</td>\n",
       "      <td>7956.922812</td>\n",
       "      <td>6815.775258</td>\n",
       "      <td>17095.904674</td>\n",
       "    </tr>\n",
       "    <tr>\n",
       "      <td>7</td>\n",
       "      <td>16649.937608</td>\n",
       "      <td>8492.391599</td>\n",
       "      <td>9286.661911</td>\n",
       "      <td>10269.552290</td>\n",
       "      <td>4553.054922</td>\n",
       "      <td>5869.513555</td>\n",
       "      <td>3564.534415</td>\n",
       "      <td>3375.490969</td>\n",
       "      <td>9463.075112</td>\n",
       "      <td>3867.386952</td>\n",
       "      <td>3257.681827</td>\n",
       "      <td>1354.181950</td>\n",
       "      <td>3672.374463</td>\n",
       "      <td>7687.861437</td>\n",
       "      <td>6976.497569</td>\n",
       "      <td>17206.190497</td>\n",
       "    </tr>\n",
       "    <tr>\n",
       "      <td>8</td>\n",
       "      <td>16588.744792</td>\n",
       "      <td>8292.434395</td>\n",
       "      <td>9481.205144</td>\n",
       "      <td>10023.562210</td>\n",
       "      <td>4409.985947</td>\n",
       "      <td>5897.647124</td>\n",
       "      <td>3583.021096</td>\n",
       "      <td>3335.051842</td>\n",
       "      <td>9004.900412</td>\n",
       "      <td>4031.866676</td>\n",
       "      <td>3288.419586</td>\n",
       "      <td>1364.252186</td>\n",
       "      <td>3655.711645</td>\n",
       "      <td>7635.103269</td>\n",
       "      <td>6486.771632</td>\n",
       "      <td>15865.400592</td>\n",
       "    </tr>\n",
       "    <tr>\n",
       "      <td>9</td>\n",
       "      <td>13596.759277</td>\n",
       "      <td>7429.608406</td>\n",
       "      <td>8520.228640</td>\n",
       "      <td>8847.580084</td>\n",
       "      <td>3906.822100</td>\n",
       "      <td>5962.114333</td>\n",
       "      <td>3111.684316</td>\n",
       "      <td>2895.409138</td>\n",
       "      <td>7610.239320</td>\n",
       "      <td>4690.838162</td>\n",
       "      <td>3296.126857</td>\n",
       "      <td>1233.113657</td>\n",
       "      <td>3196.016378</td>\n",
       "      <td>6377.318974</td>\n",
       "      <td>5606.289467</td>\n",
       "      <td>12762.338189</td>\n",
       "    </tr>\n",
       "    <tr>\n",
       "      <td>10</td>\n",
       "      <td>15466.841628</td>\n",
       "      <td>8382.457541</td>\n",
       "      <td>10413.303612</td>\n",
       "      <td>10197.253410</td>\n",
       "      <td>4198.007358</td>\n",
       "      <td>5709.363770</td>\n",
       "      <td>3226.320269</td>\n",
       "      <td>3052.017738</td>\n",
       "      <td>8470.768078</td>\n",
       "      <td>5733.190796</td>\n",
       "      <td>3502.224189</td>\n",
       "      <td>1230.423642</td>\n",
       "      <td>3401.810543</td>\n",
       "      <td>7386.278779</td>\n",
       "      <td>6135.092233</td>\n",
       "      <td>14250.298096</td>\n",
       "    </tr>\n",
       "    <tr>\n",
       "      <td>11</td>\n",
       "      <td>15651.275265</td>\n",
       "      <td>8098.889074</td>\n",
       "      <td>12733.304283</td>\n",
       "      <td>10355.794324</td>\n",
       "      <td>4541.045497</td>\n",
       "      <td>5281.098049</td>\n",
       "      <td>3229.831036</td>\n",
       "      <td>3288.398157</td>\n",
       "      <td>8651.373075</td>\n",
       "      <td>4683.933137</td>\n",
       "      <td>3107.576316</td>\n",
       "      <td>1295.475961</td>\n",
       "      <td>3499.541509</td>\n",
       "      <td>8230.268138</td>\n",
       "      <td>6573.285767</td>\n",
       "      <td>15751.507229</td>\n",
       "    </tr>\n",
       "    <tr>\n",
       "      <td>12</td>\n",
       "      <td>17586.275535</td>\n",
       "      <td>7902.806693</td>\n",
       "      <td>10528.057267</td>\n",
       "      <td>10824.648087</td>\n",
       "      <td>4139.049634</td>\n",
       "      <td>4217.980618</td>\n",
       "      <td>3180.527996</td>\n",
       "      <td>3292.752394</td>\n",
       "      <td>8706.374192</td>\n",
       "      <td>3479.330520</td>\n",
       "      <td>2639.793614</td>\n",
       "      <td>1334.451880</td>\n",
       "      <td>3591.725671</td>\n",
       "      <td>9623.808874</td>\n",
       "      <td>7258.092008</td>\n",
       "      <td>17320.479634</td>\n",
       "    </tr>\n",
       "  </tbody>\n",
       "</table>\n",
       "</div>"
      ],
      "text/plain": [
       "              홍대           연남           이태원            종로          을지로  \\\n",
       "월                                                                        \n",
       "1   22964.652169  9731.493275  11751.423592  13419.831182  3984.247184   \n",
       "2   21884.558306  9880.437920  12185.661463  12486.876429  4246.072033   \n",
       "3   17484.594529  9612.968099  11611.879015  12403.062230  4461.963609   \n",
       "4   19613.571382  9444.913193  11896.377209  12269.802344  4608.136773   \n",
       "5   20391.824084  9683.201575  11881.618342  13332.628804  4822.989358   \n",
       "6   16552.801917  8730.784818   9913.944618  10588.804212  4730.471443   \n",
       "7   16649.937608  8492.391599   9286.661911  10269.552290  4553.054922   \n",
       "8   16588.744792  8292.434395   9481.205144  10023.562210  4409.985947   \n",
       "9   13596.759277  7429.608406   8520.228640   8847.580084  3906.822100   \n",
       "10  15466.841628  8382.457541  10413.303612  10197.253410  4198.007358   \n",
       "11  15651.275265  8098.889074  12733.304283  10355.794324  4541.045497   \n",
       "12  17586.275535  7902.806693  10528.057267  10824.648087  4139.049634   \n",
       "\n",
       "             성수           한남           청담            신사           삼청  \\\n",
       "월                                                                      \n",
       "1   4440.367123  3182.214054  3542.312437  12658.224085  4453.229938   \n",
       "2   5305.910538  3618.060380  3764.181199  11951.146095  4813.436000   \n",
       "3   6213.463004  3741.874110  3837.032804  10041.183010  4891.539175   \n",
       "4   7023.646665  3924.096383  3979.448996  11944.596977  5505.720050   \n",
       "5   7294.449223  3967.982483  4111.276124  12136.590440  6090.304598   \n",
       "6   6617.169713  3482.633334  3553.967036   9574.017170  4200.509589   \n",
       "7   5869.513555  3564.534415  3375.490969   9463.075112  3867.386952   \n",
       "8   5897.647124  3583.021096  3335.051842   9004.900412  4031.866676   \n",
       "9   5962.114333  3111.684316  2895.409138   7610.239320  4690.838162   \n",
       "10  5709.363770  3226.320269  3052.017738   8470.768078  5733.190796   \n",
       "11  5281.098049  3229.831036  3288.398157   8651.373075  4683.933137   \n",
       "12  4217.980618  3180.527996  3292.752394   8706.374192  3479.330520   \n",
       "\n",
       "             서촌           장충           반포            혜화            신촌  \\\n",
       "월                                                                       \n",
       "1   2749.646600  1367.657415  4336.105553  11637.233909  10802.258724   \n",
       "2   3121.751198  1400.213548  4481.120337  10579.044783   9758.548428   \n",
       "3   3272.133514  1397.124475  4883.202967   9593.503340   8358.253898   \n",
       "4   3725.615244  1434.208040  5214.391091   9223.469469   8709.053087   \n",
       "5   4201.583190  1510.687276  5150.047386  11015.734861   8502.397222   \n",
       "6   3453.109291  1522.077684  4097.722869   7956.922812   6815.775258   \n",
       "7   3257.681827  1354.181950  3672.374463   7687.861437   6976.497569   \n",
       "8   3288.419586  1364.252186  3655.711645   7635.103269   6486.771632   \n",
       "9   3296.126857  1233.113657  3196.016378   6377.318974   5606.289467   \n",
       "10  3502.224189  1230.423642  3401.810543   7386.278779   6135.092233   \n",
       "11  3107.576316  1295.475961  3499.541509   8230.268138   6573.285767   \n",
       "12  2639.793614  1334.451880  3591.725671   9623.808874   7258.092008   \n",
       "\n",
       "              강남  \n",
       "월                 \n",
       "1   22095.225599  \n",
       "2   20754.106484  \n",
       "3   15801.662802  \n",
       "4   19428.697544  \n",
       "5   20428.042445  \n",
       "6   17095.904674  \n",
       "7   17206.190497  \n",
       "8   15865.400592  \n",
       "9   12762.338189  \n",
       "10  14250.298096  \n",
       "11  15751.507229  \n",
       "12  17320.479634  "
      ]
     },
     "execution_count": 336,
     "metadata": {},
     "output_type": "execute_result"
    }
   ],
   "source": [
    "# 월별로 합치기(계절)\n",
    "df_month\n",
    "df_month['월']= pd.to_datetime(df_month['period'])\n",
    "df_month['월'] = df_month['월'].dt.month\n",
    "df_month = df_month.groupby('월').mean()\n",
    "df_month"
   ]
  },
  {
   "cell_type": "code",
   "execution_count": 338,
   "metadata": {
    "ExecuteTime": {
     "end_time": "2021-10-01T06:20:44.541546Z",
     "start_time": "2021-10-01T06:20:44.349492Z"
    }
   },
   "outputs": [
    {
     "data": {
      "image/png": "[encoded data removed]",
      "text/plain": [
       "<Figure size 432x288 with 1 Axes>"
      ]
     },
     "metadata": {
      "needs_background": "light"
     },
     "output_type": "display_data"
    }
   ],
   "source": [
    "sns.lineplot(x = df_month.index, y =df_month.sum(axis=1), sort=False)\n",
    "#plt.savefig('data/검색량/월별.png')"
   ]
  },
  {
   "cell_type": "code",
   "execution_count": 178,
   "metadata": {
    "ExecuteTime": {
     "end_time": "2021-10-01T05:21:56.591324Z",
     "start_time": "2021-10-01T05:21:56.581736Z"
    }
   },
   "outputs": [],
   "source": [
    "#df_month.to_csv('data/검색량/월별평균검색량.csv', encoding='utf-8-sig')"
   ]
  },
  {
   "cell_type": "markdown",
   "metadata": {},
   "source": [
    "## 분기별"
   ]
  },
  {
   "cell_type": "code",
   "execution_count": 179,
   "metadata": {
    "ExecuteTime": {
     "end_time": "2021-10-01T05:22:00.271845Z",
     "start_time": "2021-10-01T05:22:00.266860Z"
    }
   },
   "outputs": [],
   "source": [
    "def season(month):\n",
    "    ss = ['겨울', '봄', '여름', '가을']\n",
    "    if month == 12:\n",
    "        return ss[0]\n",
    "    return ss[month//3]"
   ]
  },
  {
   "cell_type": "code",
   "execution_count": 327,
   "metadata": {
    "ExecuteTime": {
     "end_time": "2021-10-01T06:16:07.229575Z",
     "start_time": "2021-10-01T06:16:07.221381Z"
    }
   },
   "outputs": [],
   "source": [
    "# 분기별로 합치기\n",
    "df_season = df_month\n",
    "df_season['season'] = df_season.index\n",
    "df_season['season'] = df_season['season'].apply(season)\n",
    "df_season = df_season.groupby('season').mean()\n",
    "df_season = df_season.reindex(['봄', '여름', '가을', '겨울'])"
   ]
  },
  {
   "cell_type": "code",
   "execution_count": 328,
   "metadata": {
    "ExecuteTime": {
     "end_time": "2021-10-01T06:16:07.616416Z",
     "start_time": "2021-10-01T06:16:07.593453Z"
    }
   },
   "outputs": [
    {
     "data": {
      "text/html": [
       "<div>\n",
       "<style scoped>\n",
       "    .dataframe tbody tr th:only-of-type {\n",
       "        vertical-align: middle;\n",
       "    }\n",
       "\n",
       "    .dataframe tbody tr th {\n",
       "        vertical-align: top;\n",
       "    }\n",
       "\n",
       "    .dataframe thead th {\n",
       "        text-align: right;\n",
       "    }\n",
       "</style>\n",
       "<table border=\"1\" class=\"dataframe\">\n",
       "  <thead>\n",
       "    <tr style=\"text-align: right;\">\n",
       "      <th></th>\n",
       "      <th>홍대</th>\n",
       "      <th>연남</th>\n",
       "      <th>이태원</th>\n",
       "      <th>종로</th>\n",
       "      <th>을지로</th>\n",
       "      <th>성수</th>\n",
       "      <th>한남</th>\n",
       "      <th>청담</th>\n",
       "      <th>신사</th>\n",
       "      <th>삼청</th>\n",
       "      <th>서촌</th>\n",
       "      <th>장충</th>\n",
       "      <th>반포</th>\n",
       "      <th>혜화</th>\n",
       "      <th>신촌</th>\n",
       "      <th>강남</th>\n",
       "    </tr>\n",
       "    <tr>\n",
       "      <th>season</th>\n",
       "      <th></th>\n",
       "      <th></th>\n",
       "      <th></th>\n",
       "      <th></th>\n",
       "      <th></th>\n",
       "      <th></th>\n",
       "      <th></th>\n",
       "      <th></th>\n",
       "      <th></th>\n",
       "      <th></th>\n",
       "      <th></th>\n",
       "      <th></th>\n",
       "      <th></th>\n",
       "      <th></th>\n",
       "      <th></th>\n",
       "      <th></th>\n",
       "    </tr>\n",
       "  </thead>\n",
       "  <tbody>\n",
       "    <tr>\n",
       "      <td>봄</td>\n",
       "      <td>19163.329998</td>\n",
       "      <td>9580.360956</td>\n",
       "      <td>11796.624855</td>\n",
       "      <td>12668.497793</td>\n",
       "      <td>4631.029913</td>\n",
       "      <td>6843.852964</td>\n",
       "      <td>3877.984325</td>\n",
       "      <td>3975.919308</td>\n",
       "      <td>11374.123476</td>\n",
       "      <td>5495.854607</td>\n",
       "      <td>3733.110650</td>\n",
       "      <td>1447.339930</td>\n",
       "      <td>5082.547148</td>\n",
       "      <td>9944.235890</td>\n",
       "      <td>8523.234735</td>\n",
       "      <td>18552.800930</td>\n",
       "    </tr>\n",
       "    <tr>\n",
       "      <td>여름</td>\n",
       "      <td>16597.161439</td>\n",
       "      <td>8505.203604</td>\n",
       "      <td>9560.603891</td>\n",
       "      <td>10293.972904</td>\n",
       "      <td>4564.504104</td>\n",
       "      <td>6128.110131</td>\n",
       "      <td>3543.396282</td>\n",
       "      <td>3421.503282</td>\n",
       "      <td>9347.330898</td>\n",
       "      <td>4033.254406</td>\n",
       "      <td>3333.070235</td>\n",
       "      <td>1413.503940</td>\n",
       "      <td>3808.602993</td>\n",
       "      <td>7759.962506</td>\n",
       "      <td>6759.681487</td>\n",
       "      <td>16722.498588</td>\n",
       "    </tr>\n",
       "    <tr>\n",
       "      <td>가을</td>\n",
       "      <td>14904.958723</td>\n",
       "      <td>7970.318340</td>\n",
       "      <td>10555.612178</td>\n",
       "      <td>9800.209273</td>\n",
       "      <td>4215.291652</td>\n",
       "      <td>5650.858718</td>\n",
       "      <td>3189.278541</td>\n",
       "      <td>3078.608344</td>\n",
       "      <td>8244.126824</td>\n",
       "      <td>5035.987365</td>\n",
       "      <td>3301.975787</td>\n",
       "      <td>1253.004420</td>\n",
       "      <td>3365.789477</td>\n",
       "      <td>7331.288630</td>\n",
       "      <td>6104.889156</td>\n",
       "      <td>14254.714504</td>\n",
       "    </tr>\n",
       "    <tr>\n",
       "      <td>겨울</td>\n",
       "      <td>20811.828670</td>\n",
       "      <td>9171.579296</td>\n",
       "      <td>11488.380774</td>\n",
       "      <td>12243.785233</td>\n",
       "      <td>4123.122950</td>\n",
       "      <td>4654.752760</td>\n",
       "      <td>3326.934143</td>\n",
       "      <td>3533.082010</td>\n",
       "      <td>11105.248124</td>\n",
       "      <td>4248.665486</td>\n",
       "      <td>2837.063804</td>\n",
       "      <td>1367.440948</td>\n",
       "      <td>4136.317187</td>\n",
       "      <td>10613.362522</td>\n",
       "      <td>9272.966387</td>\n",
       "      <td>20056.603906</td>\n",
       "    </tr>\n",
       "  </tbody>\n",
       "</table>\n",
       "</div>"
      ],
      "text/plain": [
       "                  홍대           연남           이태원            종로          을지로  \\\n",
       "season                                                                       \n",
       "봄       19163.329998  9580.360956  11796.624855  12668.497793  4631.029913   \n",
       "여름      16597.161439  8505.203604   9560.603891  10293.972904  4564.504104   \n",
       "가을      14904.958723  7970.318340  10555.612178   9800.209273  4215.291652   \n",
       "겨울      20811.828670  9171.579296  11488.380774  12243.785233  4123.122950   \n",
       "\n",
       "                 성수           한남           청담            신사           삼청  \\\n",
       "season                                                                     \n",
       "봄       6843.852964  3877.984325  3975.919308  11374.123476  5495.854607   \n",
       "여름      6128.110131  3543.396282  3421.503282   9347.330898  4033.254406   \n",
       "가을      5650.858718  3189.278541  3078.608344   8244.126824  5035.987365   \n",
       "겨울      4654.752760  3326.934143  3533.082010  11105.248124  4248.665486   \n",
       "\n",
       "                 서촌           장충           반포            혜화           신촌  \\\n",
       "season                                                                     \n",
       "봄       3733.110650  1447.339930  5082.547148   9944.235890  8523.234735   \n",
       "여름      3333.070235  1413.503940  3808.602993   7759.962506  6759.681487   \n",
       "가을      3301.975787  1253.004420  3365.789477   7331.288630  6104.889156   \n",
       "겨울      2837.063804  1367.440948  4136.317187  10613.362522  9272.966387   \n",
       "\n",
       "                  강남  \n",
       "season                \n",
       "봄       18552.800930  \n",
       "여름      16722.498588  \n",
       "가을      14254.714504  \n",
       "겨울      20056.603906  "
      ]
     },
     "execution_count": 328,
     "metadata": {},
     "output_type": "execute_result"
    }
   ],
   "source": [
    "df_season"
   ]
  },
  {
   "cell_type": "code",
   "execution_count": 332,
   "metadata": {
    "ExecuteTime": {
     "end_time": "2021-10-01T06:16:51.889745Z",
     "start_time": "2021-10-01T06:16:51.727635Z"
    }
   },
   "outputs": [
    {
     "data": {
      "image/png": "[encoded data removed]",
      "text/plain": [
       "<Figure size 432x288 with 1 Axes>"
      ]
     },
     "metadata": {
      "needs_background": "light"
     },
     "output_type": "display_data"
    }
   ],
   "source": [
    "sns.lineplot(x = df_season.index, y =df_season.sum(axis=1), sort=False)\n",
    "#plt.savefig('data/검색량/계절별.png')"
   ]
  },
  {
   "cell_type": "code",
   "execution_count": 331,
   "metadata": {
    "ExecuteTime": {
     "end_time": "2021-10-01T06:16:49.687576Z",
     "start_time": "2021-10-01T06:16:49.680506Z"
    }
   },
   "outputs": [],
   "source": [
    "df_season.to_csv('data/검색량/계절별평균검색량.csv', encoding='utf-8-sig')"
   ]
  },
  {
   "cell_type": "code",
   "execution_count": 171,
   "metadata": {
    "ExecuteTime": {
     "end_time": "2021-10-01T05:19:57.009617Z",
     "start_time": "2021-10-01T05:19:55.910323Z"
    }
   },
   "outputs": [
    {
     "data": {
      "image/png": "[encoded data removed]",
      "text/plain": [
       "<Figure size 2880x1440 with 1 Axes>"
      ]
     },
     "metadata": {
      "needs_background": "light"
     },
     "output_type": "display_data"
    }
   ],
   "source": [
    "plt.figure(figsize=(40,20))\n",
    "for place in hots:\n",
    "    sns.lineplot(x=df_season.index , y= place, label=place, data=df_season);"
   ]
  },
  {
   "cell_type": "markdown",
   "metadata": {},
   "source": [
    "## 요일별"
   ]
  },
  {
   "cell_type": "code",
   "execution_count": 277,
   "metadata": {
    "ExecuteTime": {
     "end_time": "2021-10-01T05:54:54.359935Z",
     "start_time": "2021-10-01T05:54:54.354947Z"
    }
   },
   "outputs": [],
   "source": [
    "def dow(day):\n",
    "    dow = ['일', '월', '화', '수', '목', '금', '토']\n",
    "    return dow[day]"
   ]
  },
  {
   "cell_type": "code",
   "execution_count": 287,
   "metadata": {
    "ExecuteTime": {
     "end_time": "2021-10-01T05:56:04.621795Z",
     "start_time": "2021-10-01T05:56:04.580798Z"
    }
   },
   "outputs": [],
   "source": [
    "df_total = pd.read_csv('data/검색량/총검색량.csv')\n",
    "df_total = df_total.drop('Unnamed: 0', axis=1)\n",
    "df_day = df_total"
   ]
  },
  {
   "cell_type": "code",
   "execution_count": 288,
   "metadata": {
    "ExecuteTime": {
     "end_time": "2021-10-01T05:56:05.177015Z",
     "start_time": "2021-10-01T05:56:05.133419Z"
    }
   },
   "outputs": [],
   "source": [
    "df_day['요일'] = pd.to_datetime(df_day['period'])\n",
    "df_day['요일'] = df_day['요일'].dt.dayofweek\n",
    "df_day['요일'] = df_day['요일'].apply(dow)\n",
    "df_day = df_day.groupby('요일').mean()\n",
    "df_day = df_day.reindex(['월', '화', '수', '목', '금', '토', '일'])"
   ]
  },
  {
   "cell_type": "code",
   "execution_count": 293,
   "metadata": {
    "ExecuteTime": {
     "end_time": "2021-10-01T05:58:20.691667Z",
     "start_time": "2021-10-01T05:58:20.670985Z"
    }
   },
   "outputs": [
    {
     "data": {
      "text/html": [
       "<div>\n",
       "<style scoped>\n",
       "    .dataframe tbody tr th:only-of-type {\n",
       "        vertical-align: middle;\n",
       "    }\n",
       "\n",
       "    .dataframe tbody tr th {\n",
       "        vertical-align: top;\n",
       "    }\n",
       "\n",
       "    .dataframe thead th {\n",
       "        text-align: right;\n",
       "    }\n",
       "</style>\n",
       "<table border=\"1\" class=\"dataframe\">\n",
       "  <thead>\n",
       "    <tr style=\"text-align: right;\">\n",
       "      <th></th>\n",
       "      <th>홍대</th>\n",
       "      <th>연남</th>\n",
       "      <th>이태원</th>\n",
       "      <th>종로</th>\n",
       "      <th>을지로</th>\n",
       "      <th>성수</th>\n",
       "      <th>한남</th>\n",
       "      <th>청담</th>\n",
       "      <th>신사</th>\n",
       "      <th>삼청</th>\n",
       "      <th>서촌</th>\n",
       "      <th>장충</th>\n",
       "      <th>반포</th>\n",
       "      <th>혜화</th>\n",
       "      <th>신촌</th>\n",
       "      <th>강남</th>\n",
       "    </tr>\n",
       "    <tr>\n",
       "      <th>요일</th>\n",
       "      <th></th>\n",
       "      <th></th>\n",
       "      <th></th>\n",
       "      <th></th>\n",
       "      <th></th>\n",
       "      <th></th>\n",
       "      <th></th>\n",
       "      <th></th>\n",
       "      <th></th>\n",
       "      <th></th>\n",
       "      <th></th>\n",
       "      <th></th>\n",
       "      <th></th>\n",
       "      <th></th>\n",
       "      <th></th>\n",
       "      <th></th>\n",
       "    </tr>\n",
       "  </thead>\n",
       "  <tbody>\n",
       "    <tr>\n",
       "      <td>월</td>\n",
       "      <td>16079.804114</td>\n",
       "      <td>7708.865792</td>\n",
       "      <td>9070.778278</td>\n",
       "      <td>10281.834396</td>\n",
       "      <td>4346.587219</td>\n",
       "      <td>5158.816155</td>\n",
       "      <td>3181.641935</td>\n",
       "      <td>3437.742548</td>\n",
       "      <td>9422.013857</td>\n",
       "      <td>4084.371900</td>\n",
       "      <td>2897.320283</td>\n",
       "      <td>1358.278934</td>\n",
       "      <td>3949.015644</td>\n",
       "      <td>8047.562705</td>\n",
       "      <td>7148.032683</td>\n",
       "      <td>16704.092882</td>\n",
       "    </tr>\n",
       "    <tr>\n",
       "      <td>화</td>\n",
       "      <td>16387.450096</td>\n",
       "      <td>7764.905947</td>\n",
       "      <td>9779.483978</td>\n",
       "      <td>10559.753140</td>\n",
       "      <td>4418.251157</td>\n",
       "      <td>5314.900171</td>\n",
       "      <td>3219.039457</td>\n",
       "      <td>3465.111792</td>\n",
       "      <td>9462.761312</td>\n",
       "      <td>4251.454150</td>\n",
       "      <td>3003.488632</td>\n",
       "      <td>1370.336175</td>\n",
       "      <td>3978.094700</td>\n",
       "      <td>8385.223402</td>\n",
       "      <td>7136.006960</td>\n",
       "      <td>16929.610371</td>\n",
       "    </tr>\n",
       "    <tr>\n",
       "      <td>수</td>\n",
       "      <td>16875.631247</td>\n",
       "      <td>7898.443734</td>\n",
       "      <td>9569.440552</td>\n",
       "      <td>10672.104939</td>\n",
       "      <td>4453.190897</td>\n",
       "      <td>5322.318615</td>\n",
       "      <td>3225.472984</td>\n",
       "      <td>3508.349599</td>\n",
       "      <td>9672.647632</td>\n",
       "      <td>4267.082255</td>\n",
       "      <td>3003.719172</td>\n",
       "      <td>1366.644325</td>\n",
       "      <td>4009.131985</td>\n",
       "      <td>8426.285341</td>\n",
       "      <td>7465.640162</td>\n",
       "      <td>17461.180718</td>\n",
       "    </tr>\n",
       "    <tr>\n",
       "      <td>목</td>\n",
       "      <td>19749.973112</td>\n",
       "      <td>9235.865041</td>\n",
       "      <td>11468.026306</td>\n",
       "      <td>11824.548652</td>\n",
       "      <td>4843.621408</td>\n",
       "      <td>5971.734474</td>\n",
       "      <td>3621.755379</td>\n",
       "      <td>3712.705060</td>\n",
       "      <td>10837.741275</td>\n",
       "      <td>4802.331465</td>\n",
       "      <td>3390.802720</td>\n",
       "      <td>1480.529127</td>\n",
       "      <td>4440.378444</td>\n",
       "      <td>9468.270884</td>\n",
       "      <td>8220.183245</td>\n",
       "      <td>19802.094860</td>\n",
       "    </tr>\n",
       "    <tr>\n",
       "      <td>금</td>\n",
       "      <td>22763.208673</td>\n",
       "      <td>11673.658617</td>\n",
       "      <td>14645.615647</td>\n",
       "      <td>13925.489220</td>\n",
       "      <td>4805.121602</td>\n",
       "      <td>7600.677312</td>\n",
       "      <td>4287.853372</td>\n",
       "      <td>3985.804372</td>\n",
       "      <td>12352.569507</td>\n",
       "      <td>6154.046778</td>\n",
       "      <td>4287.157954</td>\n",
       "      <td>1488.939366</td>\n",
       "      <td>4639.584735</td>\n",
       "      <td>11349.057426</td>\n",
       "      <td>9259.048833</td>\n",
       "      <td>20035.923172</td>\n",
       "    </tr>\n",
       "    <tr>\n",
       "      <td>토</td>\n",
       "      <td>17947.204126</td>\n",
       "      <td>9888.317006</td>\n",
       "      <td>11821.600263</td>\n",
       "      <td>11655.702198</td>\n",
       "      <td>3780.251331</td>\n",
       "      <td>6636.132880</td>\n",
       "      <td>3854.382738</td>\n",
       "      <td>3296.857399</td>\n",
       "      <td>9737.856919</td>\n",
       "      <td>5328.942642</td>\n",
       "      <td>3756.053077</td>\n",
       "      <td>1308.531606</td>\n",
       "      <td>4075.801483</td>\n",
       "      <td>9336.806504</td>\n",
       "      <td>7696.510736</td>\n",
       "      <td>15261.703677</td>\n",
       "    </tr>\n",
       "    <tr>\n",
       "      <td>일</td>\n",
       "      <td>15699.315930</td>\n",
       "      <td>7660.846188</td>\n",
       "      <td>9426.374616</td>\n",
       "      <td>10083.625532</td>\n",
       "      <td>4070.154918</td>\n",
       "      <td>4954.978582</td>\n",
       "      <td>3081.204740</td>\n",
       "      <td>3192.855582</td>\n",
       "      <td>9019.919068</td>\n",
       "      <td>4045.264903</td>\n",
       "      <td>2838.618798</td>\n",
       "      <td>1243.423256</td>\n",
       "      <td>3770.394969</td>\n",
       "      <td>7519.772604</td>\n",
       "      <td>6993.975763</td>\n",
       "      <td>16007.047420</td>\n",
       "    </tr>\n",
       "  </tbody>\n",
       "</table>\n",
       "</div>"
      ],
      "text/plain": [
       "              홍대            연남           이태원            종로          을지로  \\\n",
       "요일                                                                        \n",
       "월   16079.804114   7708.865792   9070.778278  10281.834396  4346.587219   \n",
       "화   16387.450096   7764.905947   9779.483978  10559.753140  4418.251157   \n",
       "수   16875.631247   7898.443734   9569.440552  10672.104939  4453.190897   \n",
       "목   19749.973112   9235.865041  11468.026306  11824.548652  4843.621408   \n",
       "금   22763.208673  11673.658617  14645.615647  13925.489220  4805.121602   \n",
       "토   17947.204126   9888.317006  11821.600263  11655.702198  3780.251331   \n",
       "일   15699.315930   7660.846188   9426.374616  10083.625532  4070.154918   \n",
       "\n",
       "             성수           한남           청담            신사           삼청  \\\n",
       "요일                                                                     \n",
       "월   5158.816155  3181.641935  3437.742548   9422.013857  4084.371900   \n",
       "화   5314.900171  3219.039457  3465.111792   9462.761312  4251.454150   \n",
       "수   5322.318615  3225.472984  3508.349599   9672.647632  4267.082255   \n",
       "목   5971.734474  3621.755379  3712.705060  10837.741275  4802.331465   \n",
       "금   7600.677312  4287.853372  3985.804372  12352.569507  6154.046778   \n",
       "토   6636.132880  3854.382738  3296.857399   9737.856919  5328.942642   \n",
       "일   4954.978582  3081.204740  3192.855582   9019.919068  4045.264903   \n",
       "\n",
       "             서촌           장충           반포            혜화           신촌  \\\n",
       "요일                                                                     \n",
       "월   2897.320283  1358.278934  3949.015644   8047.562705  7148.032683   \n",
       "화   3003.488632  1370.336175  3978.094700   8385.223402  7136.006960   \n",
       "수   3003.719172  1366.644325  4009.131985   8426.285341  7465.640162   \n",
       "목   3390.802720  1480.529127  4440.378444   9468.270884  8220.183245   \n",
       "금   4287.157954  1488.939366  4639.584735  11349.057426  9259.048833   \n",
       "토   3756.053077  1308.531606  4075.801483   9336.806504  7696.510736   \n",
       "일   2838.618798  1243.423256  3770.394969   7519.772604  6993.975763   \n",
       "\n",
       "              강남  \n",
       "요일                \n",
       "월   16704.092882  \n",
       "화   16929.610371  \n",
       "수   17461.180718  \n",
       "목   19802.094860  \n",
       "금   20035.923172  \n",
       "토   15261.703677  \n",
       "일   16007.047420  "
      ]
     },
     "execution_count": 293,
     "metadata": {},
     "output_type": "execute_result"
    }
   ],
   "source": [
    "df_day"
   ]
  },
  {
   "cell_type": "code",
   "execution_count": 290,
   "metadata": {
    "ExecuteTime": {
     "end_time": "2021-10-01T05:56:36.875305Z",
     "start_time": "2021-10-01T05:56:36.863911Z"
    }
   },
   "outputs": [],
   "source": [
    "#df_day.to_csv('data/검색량/요일별평균검색량.csv', encoding='utf-8-sig')"
   ]
  },
  {
   "cell_type": "code",
   "execution_count": 318,
   "metadata": {
    "ExecuteTime": {
     "end_time": "2021-10-01T06:04:51.413703Z",
     "start_time": "2021-10-01T06:04:51.008208Z"
    }
   },
   "outputs": [
    {
     "data": {
      "image/png": "[encoded data removed]",
      "text/plain": [
       "<Figure size 432x288 with 1 Axes>"
      ]
     },
     "metadata": {
      "needs_background": "light"
     },
     "output_type": "display_data"
    }
   ],
   "source": [
    "for place in hots:\n",
    "    sns.lineplot(x = df_day.index, y =df_day[place], sort=False)"
   ]
  },
  {
   "cell_type": "code",
   "execution_count": 322,
   "metadata": {
    "ExecuteTime": {
     "end_time": "2021-10-01T06:10:18.558071Z",
     "start_time": "2021-10-01T06:10:18.397482Z"
    }
   },
   "outputs": [
    {
     "data": {
      "image/png": "[encoded data removed]",
      "text/plain": [
       "<Figure size 432x288 with 1 Axes>"
      ]
     },
     "metadata": {
      "needs_background": "light"
     },
     "output_type": "display_data"
    }
   ],
   "source": [
    "sns.lineplot(x = df_day.index, y =df_day.sum(axis=1), sort=False)\n",
    "#plt.savefig('data/검색량/요일별.png')"
   ]
  },
  {
   "cell_type": "code",
   "execution_count": null,
   "metadata": {},
   "outputs": [],
   "source": []
  }
 ],
 "metadata": {
  "kernelspec": {
   "display_name": "Python 3",
   "language": "python",
   "name": "python3"
  },
  "language_info": {
   "codemirror_mode": {
    "name": "ipython",
    "version": 3
   },
   "file_extension": ".py",
   "mimetype": "text/x-python",
   "name": "python",
   "nbconvert_exporter": "python",
   "pygments_lexer": "ipython3",
   "version": "3.7.4"
  },
  "toc": {
   "base_numbering": 1,
   "nav_menu": {},
   "number_sections": true,
   "sideBar": true,
   "skip_h1_title": false,
   "title_cell": "Table of Contents",
   "title_sidebar": "Contents",
   "toc_cell": false,
   "toc_position": {},
   "toc_section_display": true,
   "toc_window_display": false
  },
  "varInspector": {
   "cols": {
    "lenName": 16,
    "lenType": 16,
    "lenVar": 40
   },
   "kernels_config": {
    "python": {
     "delete_cmd_postfix": "",
     "delete_cmd_prefix": "del ",
     "library": "var_list.py",
     "varRefreshCmd": "print(var_dic_list())"
    },
    "r": {
     "delete_cmd_postfix": ") ",
     "delete_cmd_prefix": "rm(",
     "library": "var_list.r",
     "varRefreshCmd": "cat(var_dic_list()) "
    }
   },
   "types_to_exclude": [
    "module",
    "function",
    "builtin_function_or_method",
    "instance",
    "_Feature"
   ],
   "window_display": false
  }
 },
 "nbformat": 4,
 "nbformat_minor": 2
}
